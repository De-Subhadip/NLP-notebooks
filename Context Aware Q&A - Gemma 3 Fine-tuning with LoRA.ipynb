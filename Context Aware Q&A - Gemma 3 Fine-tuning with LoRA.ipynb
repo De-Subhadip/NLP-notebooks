{
 "cells": [
  {
   "cell_type": "markdown",
   "id": "a3a9eece",
   "metadata": {
    "papermill": {
     "duration": 0.005232,
     "end_time": "2025-05-16T18:15:57.201701",
     "exception": false,
     "start_time": "2025-05-16T18:15:57.196469",
     "status": "completed"
    },
    "tags": []
   },
   "source": [
    "# Installing/Updating Required Libraries:"
   ]
  },
  {
   "cell_type": "code",
   "execution_count": 1,
   "id": "fcba08cf",
   "metadata": {
    "execution": {
     "iopub.execute_input": "2025-05-16T18:15:57.212261Z",
     "iopub.status.busy": "2025-05-16T18:15:57.211571Z",
     "iopub.status.idle": "2025-05-16T18:16:07.971823Z",
     "shell.execute_reply": "2025-05-16T18:16:07.970917Z"
    },
    "papermill": {
     "duration": 10.766964,
     "end_time": "2025-05-16T18:16:07.973278",
     "exception": false,
     "start_time": "2025-05-16T18:15:57.206314",
     "status": "completed"
    },
    "tags": []
   },
   "outputs": [
    {
     "name": "stdout",
     "output_type": "stream",
     "text": [
      "\u001b[2K   \u001b[90m━━━━━━━━━━━━━━━━━━━━━━━━━━━━━━━━━━━━━━━━\u001b[0m \u001b[32m792.1/792.1 kB\u001b[0m \u001b[31m16.0 MB/s\u001b[0m eta \u001b[36m0:00:00\u001b[0m\r\n",
      "\u001b[?25h"
     ]
    }
   ],
   "source": [
    "!pip install -q -U keras-nlp\n",
    "!pip install -q -U keras>=3"
   ]
  },
  {
   "cell_type": "markdown",
   "id": "7a99459b",
   "metadata": {
    "papermill": {
     "duration": 0.004688,
     "end_time": "2025-05-16T18:16:07.982832",
     "exception": false,
     "start_time": "2025-05-16T18:16:07.978144",
     "status": "completed"
    },
    "tags": []
   },
   "source": [
    "# Importing Required Libraries:"
   ]
  },
  {
   "cell_type": "code",
   "execution_count": 2,
   "id": "960a4eb2",
   "metadata": {
    "execution": {
     "iopub.execute_input": "2025-05-16T18:16:07.992741Z",
     "iopub.status.busy": "2025-05-16T18:16:07.992383Z",
     "iopub.status.idle": "2025-05-16T18:16:23.997810Z",
     "shell.execute_reply": "2025-05-16T18:16:23.996710Z"
    },
    "papermill": {
     "duration": 16.012949,
     "end_time": "2025-05-16T18:16:24.000115",
     "exception": false,
     "start_time": "2025-05-16T18:16:07.987166",
     "status": "completed"
    },
    "tags": []
   },
   "outputs": [
    {
     "name": "stderr",
     "output_type": "stream",
     "text": [
      "2025-05-16 18:16:09.686887: E external/local_xla/xla/stream_executor/cuda/cuda_fft.cc:477] Unable to register cuFFT factory: Attempting to register factory for plugin cuFFT when one has already been registered\n",
      "WARNING: All log messages before absl::InitializeLog() is called are written to STDERR\n",
      "E0000 00:00:1747419369.884825      19 cuda_dnn.cc:8310] Unable to register cuDNN factory: Attempting to register factory for plugin cuDNN when one has already been registered\n",
      "E0000 00:00:1747419369.949413      19 cuda_blas.cc:1418] Unable to register cuBLAS factory: Attempting to register factory for plugin cuBLAS when one has already been registered\n"
     ]
    }
   ],
   "source": [
    "import os\n",
    "import json\n",
    "import keras\n",
    "import random\n",
    "import warnings\n",
    "import keras_nlp\n",
    "import numpy as np\n",
    "import pandas as pd\n",
    "import seaborn as sns\n",
    "import tensorflow as tf\n",
    "import matplotlib.pyplot as plt\n",
    "from IPython.display import display, Markdown"
   ]
  },
  {
   "cell_type": "code",
   "execution_count": 3,
   "id": "7b4149da",
   "metadata": {
    "execution": {
     "iopub.execute_input": "2025-05-16T18:16:24.020742Z",
     "iopub.status.busy": "2025-05-16T18:16:24.020259Z",
     "iopub.status.idle": "2025-05-16T18:16:24.024367Z",
     "shell.execute_reply": "2025-05-16T18:16:24.023465Z"
    },
    "papermill": {
     "duration": 0.014843,
     "end_time": "2025-05-16T18:16:24.025571",
     "exception": false,
     "start_time": "2025-05-16T18:16:24.010728",
     "status": "completed"
    },
    "tags": []
   },
   "outputs": [],
   "source": [
    "warnings.filterwarnings(\"ignore\")"
   ]
  },
  {
   "cell_type": "markdown",
   "id": "ccf9cbe0",
   "metadata": {
    "papermill": {
     "duration": 0.004281,
     "end_time": "2025-05-16T18:16:24.034276",
     "exception": false,
     "start_time": "2025-05-16T18:16:24.029995",
     "status": "completed"
    },
    "tags": []
   },
   "source": [
    "# Setting Up the Keras Backend:"
   ]
  },
  {
   "cell_type": "code",
   "execution_count": 4,
   "id": "be84ddac",
   "metadata": {
    "execution": {
     "iopub.execute_input": "2025-05-16T18:16:24.043738Z",
     "iopub.status.busy": "2025-05-16T18:16:24.043460Z",
     "iopub.status.idle": "2025-05-16T18:16:24.047008Z",
     "shell.execute_reply": "2025-05-16T18:16:24.046393Z"
    },
    "papermill": {
     "duration": 0.009405,
     "end_time": "2025-05-16T18:16:24.048074",
     "exception": false,
     "start_time": "2025-05-16T18:16:24.038669",
     "status": "completed"
    },
    "tags": []
   },
   "outputs": [],
   "source": [
    "os.environ[\"KERAS_BACKEND\"] = \"jax\"\n",
    "os.environ[\"XLA_PYTHON_CLIENT_MEM_FRACTION\"] = \"1\"\n",
    "os.environ[\"JAX_PLATFORMS\"] = \"\""
   ]
  },
  {
   "cell_type": "markdown",
   "id": "79f16456",
   "metadata": {
    "papermill": {
     "duration": 0.004307,
     "end_time": "2025-05-16T18:16:24.056755",
     "exception": false,
     "start_time": "2025-05-16T18:16:24.052448",
     "status": "completed"
    },
    "tags": []
   },
   "source": [
    "# Loading the Data:"
   ]
  },
  {
   "cell_type": "code",
   "execution_count": 5,
   "id": "1dfe727b",
   "metadata": {
    "execution": {
     "iopub.execute_input": "2025-05-16T18:16:24.066350Z",
     "iopub.status.busy": "2025-05-16T18:16:24.066138Z",
     "iopub.status.idle": "2025-05-16T18:16:24.291757Z",
     "shell.execute_reply": "2025-05-16T18:16:24.290827Z"
    },
    "papermill": {
     "duration": 0.232543,
     "end_time": "2025-05-16T18:16:24.293566",
     "exception": false,
     "start_time": "2025-05-16T18:16:24.061023",
     "status": "completed"
    },
    "tags": []
   },
   "outputs": [],
   "source": [
    "data = []\n",
    "\n",
    "with open('/kaggle/input/databricks-dolly-15k/databricks-dolly-15k.jsonl') as file:\n",
    "    for line in file:\n",
    "        record = json.loads(line)\n",
    "\n",
    "        # Filtering out examples without context\n",
    "        if not record[\"context\"]:\n",
    "            continue\n",
    "            \n",
    "        record_dict = {\"prompts\" : \"\", \"responses\" : \"\"}\n",
    "        record_dict[\"prompts\"] = record[\"instruction\"]\n",
    "        record_dict[\"prompts\"] += f\" \\n\\nContext: {record['context']}\"\n",
    "        record_dict[\"responses\"] = record[\"response\"]\n",
    "        \n",
    "        data.append(record_dict)"
   ]
  },
  {
   "cell_type": "markdown",
   "id": "1bc47356",
   "metadata": {
    "papermill": {
     "duration": 0.00844,
     "end_time": "2025-05-16T18:16:24.310710",
     "exception": false,
     "start_time": "2025-05-16T18:16:24.302270",
     "status": "completed"
    },
    "tags": []
   },
   "source": [
    "# Exploratory Data Analysis:"
   ]
  },
  {
   "cell_type": "code",
   "execution_count": 6,
   "id": "f48323be",
   "metadata": {
    "execution": {
     "iopub.execute_input": "2025-05-16T18:16:24.328467Z",
     "iopub.status.busy": "2025-05-16T18:16:24.328219Z",
     "iopub.status.idle": "2025-05-16T18:16:24.333809Z",
     "shell.execute_reply": "2025-05-16T18:16:24.333055Z"
    },
    "papermill": {
     "duration": 0.015857,
     "end_time": "2025-05-16T18:16:24.335219",
     "exception": false,
     "start_time": "2025-05-16T18:16:24.319362",
     "status": "completed"
    },
    "tags": []
   },
   "outputs": [],
   "source": [
    "def plot():\n",
    "    context_lengths = []\n",
    "    response_lengths = []\n",
    "    \n",
    "    for i in range(len(data)):\n",
    "        context_lengths.append(len(data[i][\"prompts\"].split(\"\\n\\nContext: \")[-1].split()))\n",
    "        response_lengths.append(len(data[i][\"responses\"].split()))\n",
    "\n",
    "    df = pd.DataFrame({\"context lengths\":context_lengths, \"response lengths\":response_lengths})\n",
    "    \n",
    "    fig, axes = plt.subplots(2, 1, figsize=(8, 8), dpi=250)\n",
    "    sns.histplot(data=df, x=\"context lengths\", bins=100, ax=axes[0], kde=True).set_title(\"Distribution of context lengths (number of words)\")\n",
    "    sns.histplot(data=df, x=\"response lengths\", bins=100, ax=axes[1], kde=True).set_title(\"Distribution of response lengths (number of words\")\n",
    "    plt.subplots_adjust(hspace=0.5)\n",
    "    plt.show()\n",
    "    return"
   ]
  },
  {
   "cell_type": "code",
   "execution_count": 7,
   "id": "b0e59feb",
   "metadata": {
    "execution": {
     "iopub.execute_input": "2025-05-16T18:16:24.351912Z",
     "iopub.status.busy": "2025-05-16T18:16:24.351344Z",
     "iopub.status.idle": "2025-05-16T18:16:25.364399Z",
     "shell.execute_reply": "2025-05-16T18:16:25.363642Z"
    },
    "papermill": {
     "duration": 1.024048,
     "end_time": "2025-05-16T18:16:25.367224",
     "exception": false,
     "start_time": "2025-05-16T18:16:24.343176",
     "status": "completed"
    },
    "tags": []
   },
   "outputs": [
    {
     "data": {
      "image/png": "[encoded data removed]",
      "text/plain": [
       "<Figure size 2000x2000 with 2 Axes>"
      ]
     },
     "metadata": {},
     "output_type": "display_data"
    }
   ],
   "source": [
    "plot()"
   ]
  },
  {
   "cell_type": "markdown",
   "id": "c5f34f05",
   "metadata": {
    "papermill": {
     "duration": 0.005968,
     "end_time": "2025-05-16T18:16:25.379955",
     "exception": false,
     "start_time": "2025-05-16T18:16:25.373987",
     "status": "completed"
    },
    "tags": []
   },
   "source": [
    "# Function for Coloring and Formatting the Texts:"
   ]
  },
  {
   "cell_type": "code",
   "execution_count": 8,
   "id": "4a9aa8d8",
   "metadata": {
    "execution": {
     "iopub.execute_input": "2025-05-16T18:16:25.392998Z",
     "iopub.status.busy": "2025-05-16T18:16:25.392762Z",
     "iopub.status.idle": "2025-05-16T18:16:25.397784Z",
     "shell.execute_reply": "2025-05-16T18:16:25.397216Z"
    },
    "papermill": {
     "duration": 0.012656,
     "end_time": "2025-05-16T18:16:25.398777",
     "exception": false,
     "start_time": "2025-05-16T18:16:25.386121",
     "status": "completed"
    },
    "tags": []
   },
   "outputs": [],
   "source": [
    "def colorize_text(text):\n",
    "    for word, color in zip([\"Question: \", \"Context: \", \"Answer: \", \"System: \"], [\"crimson\", \"cyan\", \"lightgreen\", \"aquamarine\"]):\n",
    "        text = text.replace(f\"{word}\", f\"<font color='{color}' size='5'><strong>{word}</strong></font>\")\n",
    "    return text\n",
    "\n",
    "\n",
    "\n",
    "def colorize_text_from_dict(text_dict):\n",
    "    text = \"\"\n",
    "\n",
    "    for key, value in text_dict.items():\n",
    "        if key == \"prompts\":\n",
    "            text += f\"Question: {value}\\n\\n\"\n",
    "        elif key == \"responses\":\n",
    "            text += f\"Answer: {value}\\n\\n\"\n",
    "\n",
    "    text = colorize_text(text)\n",
    "    \n",
    "    return text"
   ]
  },
  {
   "cell_type": "code",
   "execution_count": 9,
   "id": "8d8c16d6",
   "metadata": {
    "execution": {
     "iopub.execute_input": "2025-05-16T18:16:25.411969Z",
     "iopub.status.busy": "2025-05-16T18:16:25.411386Z",
     "iopub.status.idle": "2025-05-16T18:16:25.416105Z",
     "shell.execute_reply": "2025-05-16T18:16:25.415577Z"
    },
    "papermill": {
     "duration": 0.012308,
     "end_time": "2025-05-16T18:16:25.417151",
     "exception": false,
     "start_time": "2025-05-16T18:16:25.404843",
     "status": "completed"
    },
    "tags": []
   },
   "outputs": [
    {
     "data": {
      "text/markdown": [
       "<center><font color='Yellow' size='6'><strong>Example 0:</strong></center></font>\n",
       "\n",
       "<font color='crimson' size='5'><strong>Question: </strong></font>When did Virgin Australia start operating? \n",
       "\n",
       "<font color='cyan' size='5'><strong>Context: </strong></font>Virgin Australia, the trading name of Virgin Australia Airlines Pty Ltd, is an Australian-based airline. It is the largest airline by fleet size to use the Virgin brand. It commenced services on 31 August 2000 as Virgin Blue, with two aircraft on a single route.[3] It suddenly found itself as a major airline in Australia's domestic market after the collapse of Ansett Australia in September 2001. The airline has since grown to directly serve 32 cities in Australia, from hubs in Brisbane, Melbourne and Sydney.[4]\n",
       "\n",
       "<font color='lightgreen' size='5'><strong>Answer: </strong></font>Virgin Australia commenced services on 31 August 2000 as Virgin Blue, with two aircraft on a single route.\n",
       "\n"
      ],
      "text/plain": [
       "<IPython.core.display.Markdown object>"
      ]
     },
     "metadata": {},
     "output_type": "display_data"
    }
   ],
   "source": [
    "# Visualizing a random text from the corpus\n",
    "n = random.randint(0, len(data))\n",
    "text = f\"<center><font color='Yellow' size='6'><strong>Example {n}:</strong></center></font>\\n\\n\"\n",
    "text += colorize_text_from_dict(data[n])\n",
    "display(Markdown(text))"
   ]
  },
  {
   "cell_type": "markdown",
   "id": "56711cda",
   "metadata": {
    "papermill": {
     "duration": 0.005995,
     "end_time": "2025-05-16T18:16:25.429268",
     "exception": false,
     "start_time": "2025-05-16T18:16:25.423273",
     "status": "completed"
    },
    "tags": []
   },
   "source": [
    "# Building TensorFlow Dataset:"
   ]
  },
  {
   "cell_type": "code",
   "execution_count": 10,
   "id": "083b06d1",
   "metadata": {
    "execution": {
     "iopub.execute_input": "2025-05-16T18:16:25.442749Z",
     "iopub.status.busy": "2025-05-16T18:16:25.442320Z",
     "iopub.status.idle": "2025-05-16T18:16:25.447434Z",
     "shell.execute_reply": "2025-05-16T18:16:25.446796Z"
    },
    "papermill": {
     "duration": 0.012848,
     "end_time": "2025-05-16T18:16:25.448592",
     "exception": false,
     "start_time": "2025-05-16T18:16:25.435744",
     "status": "completed"
    },
    "tags": []
   },
   "outputs": [],
   "source": [
    "random.shuffle(data) # Shuffling the list\n",
    "dataset = data[:500] # Taking the first 500 examples for faster training\n",
    "test_dataset = data[500:]"
   ]
  },
  {
   "cell_type": "code",
   "execution_count": 11,
   "id": "81bc61b5",
   "metadata": {
    "execution": {
     "iopub.execute_input": "2025-05-16T18:16:25.461980Z",
     "iopub.status.busy": "2025-05-16T18:16:25.461802Z",
     "iopub.status.idle": "2025-05-16T18:16:25.466296Z",
     "shell.execute_reply": "2025-05-16T18:16:25.465666Z"
    },
    "papermill": {
     "duration": 0.012324,
     "end_time": "2025-05-16T18:16:25.467290",
     "exception": false,
     "start_time": "2025-05-16T18:16:25.454966",
     "status": "completed"
    },
    "tags": []
   },
   "outputs": [],
   "source": [
    "def build_tf_dataset(text_dict_list):\n",
    "    AUTO = tf.data.AUTOTUNE\n",
    "    options = tf.data.Options()\n",
    "    options.experimental_deterministic = False\n",
    "    \n",
    "    dataset = tf.data.Dataset.from_generator(\n",
    "        lambda: (item for item in text_dict_list),\n",
    "        output_signature={\n",
    "            \"prompts\": tf.TensorSpec(shape=(), dtype=tf.string),\n",
    "            \"responses\": tf.TensorSpec(shape=(), dtype=tf.string),\n",
    "        }\n",
    "    ).cache()\n",
    "\n",
    "    dataset = dataset.shuffle(1024, seed=42)\n",
    "    dataset = dataset.with_options(options).batch(1).prefetch(AUTO)\n",
    "\n",
    "    return dataset"
   ]
  },
  {
   "cell_type": "code",
   "execution_count": 12,
   "id": "7215c8ee",
   "metadata": {
    "execution": {
     "iopub.execute_input": "2025-05-16T18:16:25.480275Z",
     "iopub.status.busy": "2025-05-16T18:16:25.480100Z",
     "iopub.status.idle": "2025-05-16T18:16:28.183998Z",
     "shell.execute_reply": "2025-05-16T18:16:28.183173Z"
    },
    "papermill": {
     "duration": 2.712031,
     "end_time": "2025-05-16T18:16:28.185443",
     "exception": false,
     "start_time": "2025-05-16T18:16:25.473412",
     "status": "completed"
    },
    "tags": []
   },
   "outputs": [
    {
     "name": "stderr",
     "output_type": "stream",
     "text": [
      "I0000 00:00:1747419386.619073      19 gpu_device.cc:2022] Created device /job:localhost/replica:0/task:0/device:GPU:0 with 15513 MB memory:  -> device: 0, name: Tesla P100-PCIE-16GB, pci bus id: 0000:00:04.0, compute capability: 6.0\n"
     ]
    }
   ],
   "source": [
    "dataset = build_tf_dataset(dataset)"
   ]
  },
  {
   "cell_type": "markdown",
   "id": "55275604",
   "metadata": {
    "papermill": {
     "duration": 0.006381,
     "end_time": "2025-05-16T18:16:28.198579",
     "exception": false,
     "start_time": "2025-05-16T18:16:28.192198",
     "status": "completed"
    },
    "tags": []
   },
   "source": [
    "# Loading the Gemma 3 Model with 1 Billion Parameters:"
   ]
  },
  {
   "cell_type": "code",
   "execution_count": 13,
   "id": "b0023f3c",
   "metadata": {
    "execution": {
     "iopub.execute_input": "2025-05-16T18:16:28.212605Z",
     "iopub.status.busy": "2025-05-16T18:16:28.212326Z",
     "iopub.status.idle": "2025-05-16T18:16:51.262185Z",
     "shell.execute_reply": "2025-05-16T18:16:51.261435Z"
    },
    "papermill": {
     "duration": 23.058181,
     "end_time": "2025-05-16T18:16:51.263251",
     "exception": false,
     "start_time": "2025-05-16T18:16:28.205070",
     "status": "completed"
    },
    "tags": []
   },
   "outputs": [
    {
     "name": "stderr",
     "output_type": "stream",
     "text": [
      "normalizer.cc(51) LOG(INFO) precompiled_charsmap is empty. use identity normalization.\n"
     ]
    },
    {
     "data": {
      "text/html": [
       "<pre style=\"white-space:pre;overflow-x:auto;line-height:normal;font-family:Menlo,'DejaVu Sans Mono',consolas,'Courier New',monospace\"><span style=\"font-weight: bold\">Preprocessor: \"gemma3_causal_lm_preprocessor\"</span>\n",
       "</pre>\n"
      ],
      "text/plain": [
       "\u001b[1mPreprocessor: \"gemma3_causal_lm_preprocessor\"\u001b[0m\n"
      ]
     },
     "metadata": {},
     "output_type": "display_data"
    },
    {
     "data": {
      "text/html": [
       "<pre style=\"white-space:pre;overflow-x:auto;line-height:normal;font-family:Menlo,'DejaVu Sans Mono',consolas,'Courier New',monospace\">┏━━━━━━━━━━━━━━━━━━━━━━━━━━━━━━━━━━━━━━━━━━━━━━━━━━━━━━━━━━━━━━━┳━━━━━━━━━━━━━━━━━━━━━━━━━━━━━━━━━━━━━━━━━━┓\n",
       "┃<span style=\"font-weight: bold\"> Layer (type)                                                  </span>┃<span style=\"font-weight: bold\">                                   Config </span>┃\n",
       "┡━━━━━━━━━━━━━━━━━━━━━━━━━━━━━━━━━━━━━━━━━━━━━━━━━━━━━━━━━━━━━━━╇━━━━━━━━━━━━━━━━━━━━━━━━━━━━━━━━━━━━━━━━━━┩\n",
       "│ gemma3_tokenizer (<span style=\"color: #0087ff; text-decoration-color: #0087ff\">Gemma3Tokenizer</span>)                            │                      Vocab size: <span style=\"color: #00af00; text-decoration-color: #00af00\">262,144</span> │\n",
       "└───────────────────────────────────────────────────────────────┴──────────────────────────────────────────┘\n",
       "</pre>\n"
      ],
      "text/plain": [
       "┏━━━━━━━━━━━━━━━━━━━━━━━━━━━━━━━━━━━━━━━━━━━━━━━━━━━━━━━━━━━━━━━┳━━━━━━━━━━━━━━━━━━━━━━━━━━━━━━━━━━━━━━━━━━┓\n",
       "┃\u001b[1m \u001b[0m\u001b[1mLayer (type)                                                 \u001b[0m\u001b[1m \u001b[0m┃\u001b[1m \u001b[0m\u001b[1m                                  Config\u001b[0m\u001b[1m \u001b[0m┃\n",
       "┡━━━━━━━━━━━━━━━━━━━━━━━━━━━━━━━━━━━━━━━━━━━━━━━━━━━━━━━━━━━━━━━╇━━━━━━━━━━━━━━━━━━━━━━━━━━━━━━━━━━━━━━━━━━┩\n",
       "│ gemma3_tokenizer (\u001b[38;5;33mGemma3Tokenizer\u001b[0m)                            │                      Vocab size: \u001b[38;5;34m262,144\u001b[0m │\n",
       "└───────────────────────────────────────────────────────────────┴──────────────────────────────────────────┘\n"
      ]
     },
     "metadata": {},
     "output_type": "display_data"
    },
    {
     "data": {
      "text/html": [
       "<pre style=\"white-space:pre;overflow-x:auto;line-height:normal;font-family:Menlo,'DejaVu Sans Mono',consolas,'Courier New',monospace\"><span style=\"font-weight: bold\">Model: \"gemma3_causal_lm\"</span>\n",
       "</pre>\n"
      ],
      "text/plain": [
       "\u001b[1mModel: \"gemma3_causal_lm\"\u001b[0m\n"
      ]
     },
     "metadata": {},
     "output_type": "display_data"
    },
    {
     "data": {
      "text/html": [
       "<pre style=\"white-space:pre;overflow-x:auto;line-height:normal;font-family:Menlo,'DejaVu Sans Mono',consolas,'Courier New',monospace\">┏━━━━━━━━━━━━━━━━━━━━━━━━━━━━━━━┳━━━━━━━━━━━━━━━━━━━━━━━━━━━┳━━━━━━━━━━━━━━━━━┳━━━━━━━━━━━━━━━━━━━━━━━━━━━━┓\n",
       "┃<span style=\"font-weight: bold\"> Layer (type)                  </span>┃<span style=\"font-weight: bold\"> Output Shape              </span>┃<span style=\"font-weight: bold\">         Param # </span>┃<span style=\"font-weight: bold\"> Connected to               </span>┃\n",
       "┡━━━━━━━━━━━━━━━━━━━━━━━━━━━━━━━╇━━━━━━━━━━━━━━━━━━━━━━━━━━━╇━━━━━━━━━━━━━━━━━╇━━━━━━━━━━━━━━━━━━━━━━━━━━━━┩\n",
       "│ padding_mask (<span style=\"color: #0087ff; text-decoration-color: #0087ff\">InputLayer</span>)     │ (<span style=\"color: #00d7ff; text-decoration-color: #00d7ff\">None</span>, <span style=\"color: #00d7ff; text-decoration-color: #00d7ff\">None</span>)              │               <span style=\"color: #00af00; text-decoration-color: #00af00\">0</span> │ -                          │\n",
       "├───────────────────────────────┼───────────────────────────┼─────────────────┼────────────────────────────┤\n",
       "│ token_ids (<span style=\"color: #0087ff; text-decoration-color: #0087ff\">InputLayer</span>)        │ (<span style=\"color: #00d7ff; text-decoration-color: #00d7ff\">None</span>, <span style=\"color: #00d7ff; text-decoration-color: #00d7ff\">None</span>)              │               <span style=\"color: #00af00; text-decoration-color: #00af00\">0</span> │ -                          │\n",
       "├───────────────────────────────┼───────────────────────────┼─────────────────┼────────────────────────────┤\n",
       "│ gemma3_backbone               │ (<span style=\"color: #00d7ff; text-decoration-color: #00d7ff\">None</span>, <span style=\"color: #00d7ff; text-decoration-color: #00d7ff\">None</span>, <span style=\"color: #00af00; text-decoration-color: #00af00\">1152</span>)        │     <span style=\"color: #00af00; text-decoration-color: #00af00\">999,885,952</span> │ padding_mask[<span style=\"color: #00af00; text-decoration-color: #00af00\">0</span>][<span style=\"color: #00af00; text-decoration-color: #00af00\">0</span>],        │\n",
       "│ (<span style=\"color: #0087ff; text-decoration-color: #0087ff\">Gemma3Backbone</span>)              │                           │                 │ token_ids[<span style=\"color: #00af00; text-decoration-color: #00af00\">0</span>][<span style=\"color: #00af00; text-decoration-color: #00af00\">0</span>]            │\n",
       "├───────────────────────────────┼───────────────────────────┼─────────────────┼────────────────────────────┤\n",
       "│ token_embedding               │ (<span style=\"color: #00d7ff; text-decoration-color: #00d7ff\">None</span>, <span style=\"color: #00d7ff; text-decoration-color: #00d7ff\">None</span>, <span style=\"color: #00af00; text-decoration-color: #00af00\">262144</span>)      │     <span style=\"color: #00af00; text-decoration-color: #00af00\">301,989,888</span> │ gemma3_backbone[<span style=\"color: #00af00; text-decoration-color: #00af00\">0</span>][<span style=\"color: #00af00; text-decoration-color: #00af00\">0</span>]      │\n",
       "│ (<span style=\"color: #0087ff; text-decoration-color: #0087ff\">ReversibleEmbedding</span>)         │                           │                 │                            │\n",
       "└───────────────────────────────┴───────────────────────────┴─────────────────┴────────────────────────────┘\n",
       "</pre>\n"
      ],
      "text/plain": [
       "┏━━━━━━━━━━━━━━━━━━━━━━━━━━━━━━━┳━━━━━━━━━━━━━━━━━━━━━━━━━━━┳━━━━━━━━━━━━━━━━━┳━━━━━━━━━━━━━━━━━━━━━━━━━━━━┓\n",
       "┃\u001b[1m \u001b[0m\u001b[1mLayer (type)                 \u001b[0m\u001b[1m \u001b[0m┃\u001b[1m \u001b[0m\u001b[1mOutput Shape             \u001b[0m\u001b[1m \u001b[0m┃\u001b[1m \u001b[0m\u001b[1m        Param #\u001b[0m\u001b[1m \u001b[0m┃\u001b[1m \u001b[0m\u001b[1mConnected to              \u001b[0m\u001b[1m \u001b[0m┃\n",
       "┡━━━━━━━━━━━━━━━━━━━━━━━━━━━━━━━╇━━━━━━━━━━━━━━━━━━━━━━━━━━━╇━━━━━━━━━━━━━━━━━╇━━━━━━━━━━━━━━━━━━━━━━━━━━━━┩\n",
       "│ padding_mask (\u001b[38;5;33mInputLayer\u001b[0m)     │ (\u001b[38;5;45mNone\u001b[0m, \u001b[38;5;45mNone\u001b[0m)              │               \u001b[38;5;34m0\u001b[0m │ -                          │\n",
       "├───────────────────────────────┼───────────────────────────┼─────────────────┼────────────────────────────┤\n",
       "│ token_ids (\u001b[38;5;33mInputLayer\u001b[0m)        │ (\u001b[38;5;45mNone\u001b[0m, \u001b[38;5;45mNone\u001b[0m)              │               \u001b[38;5;34m0\u001b[0m │ -                          │\n",
       "├───────────────────────────────┼───────────────────────────┼─────────────────┼────────────────────────────┤\n",
       "│ gemma3_backbone               │ (\u001b[38;5;45mNone\u001b[0m, \u001b[38;5;45mNone\u001b[0m, \u001b[38;5;34m1152\u001b[0m)        │     \u001b[38;5;34m999,885,952\u001b[0m │ padding_mask[\u001b[38;5;34m0\u001b[0m][\u001b[38;5;34m0\u001b[0m],        │\n",
       "│ (\u001b[38;5;33mGemma3Backbone\u001b[0m)              │                           │                 │ token_ids[\u001b[38;5;34m0\u001b[0m][\u001b[38;5;34m0\u001b[0m]            │\n",
       "├───────────────────────────────┼───────────────────────────┼─────────────────┼────────────────────────────┤\n",
       "│ token_embedding               │ (\u001b[38;5;45mNone\u001b[0m, \u001b[38;5;45mNone\u001b[0m, \u001b[38;5;34m262144\u001b[0m)      │     \u001b[38;5;34m301,989,888\u001b[0m │ gemma3_backbone[\u001b[38;5;34m0\u001b[0m][\u001b[38;5;34m0\u001b[0m]      │\n",
       "│ (\u001b[38;5;33mReversibleEmbedding\u001b[0m)         │                           │                 │                            │\n",
       "└───────────────────────────────┴───────────────────────────┴─────────────────┴────────────────────────────┘\n"
      ]
     },
     "metadata": {},
     "output_type": "display_data"
    },
    {
     "data": {
      "text/html": [
       "<pre style=\"white-space:pre;overflow-x:auto;line-height:normal;font-family:Menlo,'DejaVu Sans Mono',consolas,'Courier New',monospace\"><span style=\"font-weight: bold\"> Total params: </span><span style=\"color: #00af00; text-decoration-color: #00af00\">999,885,952</span> (3.72 GB)\n",
       "</pre>\n"
      ],
      "text/plain": [
       "\u001b[1m Total params: \u001b[0m\u001b[38;5;34m999,885,952\u001b[0m (3.72 GB)\n"
      ]
     },
     "metadata": {},
     "output_type": "display_data"
    },
    {
     "data": {
      "text/html": [
       "<pre style=\"white-space:pre;overflow-x:auto;line-height:normal;font-family:Menlo,'DejaVu Sans Mono',consolas,'Courier New',monospace\"><span style=\"font-weight: bold\"> Trainable params: </span><span style=\"color: #00af00; text-decoration-color: #00af00\">999,885,952</span> (3.72 GB)\n",
       "</pre>\n"
      ],
      "text/plain": [
       "\u001b[1m Trainable params: \u001b[0m\u001b[38;5;34m999,885,952\u001b[0m (3.72 GB)\n"
      ]
     },
     "metadata": {},
     "output_type": "display_data"
    },
    {
     "data": {
      "text/html": [
       "<pre style=\"white-space:pre;overflow-x:auto;line-height:normal;font-family:Menlo,'DejaVu Sans Mono',consolas,'Courier New',monospace\"><span style=\"font-weight: bold\"> Non-trainable params: </span><span style=\"color: #00af00; text-decoration-color: #00af00\">0</span> (0.00 B)\n",
       "</pre>\n"
      ],
      "text/plain": [
       "\u001b[1m Non-trainable params: \u001b[0m\u001b[38;5;34m0\u001b[0m (0.00 B)\n"
      ]
     },
     "metadata": {},
     "output_type": "display_data"
    }
   ],
   "source": [
    "gemma3_1b = keras_nlp.models.Gemma3CausalLM.from_preset(\"gemma3_1b\")\n",
    "gemma3_1b.summary()"
   ]
  },
  {
   "cell_type": "markdown",
   "id": "6f4545cc",
   "metadata": {
    "papermill": {
     "duration": 0.007146,
     "end_time": "2025-05-16T18:16:51.278049",
     "exception": false,
     "start_time": "2025-05-16T18:16:51.270903",
     "status": "completed"
    },
    "tags": []
   },
   "source": [
    "# Inferenece Before Fine-tuning:"
   ]
  },
  {
   "cell_type": "code",
   "execution_count": 14,
   "id": "a3dee423",
   "metadata": {
    "execution": {
     "iopub.execute_input": "2025-05-16T18:16:51.293230Z",
     "iopub.status.busy": "2025-05-16T18:16:51.292618Z",
     "iopub.status.idle": "2025-05-16T18:16:51.296518Z",
     "shell.execute_reply": "2025-05-16T18:16:51.295783Z"
    },
    "papermill": {
     "duration": 0.012623,
     "end_time": "2025-05-16T18:16:51.297599",
     "exception": false,
     "start_time": "2025-05-16T18:16:51.284976",
     "status": "completed"
    },
    "tags": []
   },
   "outputs": [],
   "source": [
    "template = \"\"\"System: \n",
    "You are an AI assistant tasked with answering questions based solely on the provided context. Carefully read the following Context and Question. Your answer must be derived only from the information present in the Context. Do not use any external knowledge or make assumptions beyond what is explicitly stated in the Context.\n",
    "If the answer to the Question cannot be found within the Context, you must explicitly state: 'The answer cannot be found in the provided context.'\n",
    "\n",
    "Question: \n",
    "{question}\n",
    "\n",
    "Context: \n",
    "{context}\n",
    "\n",
    "Answer: \\n\\n\n",
    "\"\"\""
   ]
  },
  {
   "cell_type": "code",
   "execution_count": 15,
   "id": "76aaf2e9",
   "metadata": {
    "execution": {
     "iopub.execute_input": "2025-05-16T18:16:51.312581Z",
     "iopub.status.busy": "2025-05-16T18:16:51.312090Z",
     "iopub.status.idle": "2025-05-16T18:16:51.317656Z",
     "shell.execute_reply": "2025-05-16T18:16:51.316887Z"
    },
    "papermill": {
     "duration": 0.014256,
     "end_time": "2025-05-16T18:16:51.318812",
     "exception": false,
     "start_time": "2025-05-16T18:16:51.304556",
     "status": "completed"
    },
    "tags": []
   },
   "outputs": [],
   "source": [
    "def generate_inference(example_num=None):\n",
    "    if example_num == None or example_num >= len(test_dataset):\n",
    "        example_num = random.randint(0, len(test_dataset))\n",
    "\n",
    "    example = test_dataset[example_num]\n",
    "    question = example[\"prompts\"].split(\"\\n\\nContext: \")[0]\n",
    "    context = example[\"prompts\"].split(\"\\n\\nContext: \")[-1]\n",
    "    answer = example[\"responses\"]\n",
    "\n",
    "    input_prompt = template.format(question=question, context=context)\n",
    "    max_length = 2 * len(input_prompt.split())\n",
    "    response = gemma3_1b.generate(input_prompt, max_length=max_length)\n",
    "    response = response.split(\"Answer: \\n\\n\")[-1].strip()\n",
    "\n",
    "    colored_text = f\"<center><font color='Yellow' size='6'><strong>Input Prompt for Example Number {example_num}:</strong></center></font>\\n\\n\"\n",
    "    colored_text += colorize_text(input_prompt)\n",
    "    colored_text += f\"<center><font color='Yellow' size='6'><strong>Answer as per Dataset:</strong></center></font>\\n\\n{answer}\\n\\n\"\n",
    "    colored_text += f\"<center><font color='Yellow' size='6'><strong>Gemma 3 Response:</strong></center></font>\\n\\n\"\n",
    "    colored_text += colorize_text(response)\n",
    "    \n",
    "    colored_text += f\"{colorize_text(response)}\"\n",
    "    \n",
    "    return colored_text"
   ]
  },
  {
   "cell_type": "code",
   "execution_count": 16,
   "id": "42009e46",
   "metadata": {
    "execution": {
     "iopub.execute_input": "2025-05-16T18:16:51.333539Z",
     "iopub.status.busy": "2025-05-16T18:16:51.333295Z",
     "iopub.status.idle": "2025-05-16T18:17:31.555391Z",
     "shell.execute_reply": "2025-05-16T18:17:31.554752Z"
    },
    "papermill": {
     "duration": 40.230944,
     "end_time": "2025-05-16T18:17:31.556696",
     "exception": false,
     "start_time": "2025-05-16T18:16:51.325752",
     "status": "completed"
    },
    "tags": []
   },
   "outputs": [
    {
     "name": "stderr",
     "output_type": "stream",
     "text": [
      "WARNING: All log messages before absl::InitializeLog() is called are written to STDERR\n",
      "I0000 00:00:1747419429.334795      19 service.cc:148] XLA service 0x1ebabef0 initialized for platform CUDA (this does not guarantee that XLA will be used). Devices:\n",
      "I0000 00:00:1747419429.335784      19 service.cc:156]   StreamExecutor device (0): Tesla P100-PCIE-16GB, Compute Capability 6.0\n",
      "I0000 00:00:1747419436.007562      19 cuda_dnn.cc:529] Loaded cuDNN version 90300\n",
      "I0000 00:00:1747419447.827702      19 device_compiler.h:188] Compiled cluster using XLA!  This line is logged at most once for the lifetime of the process.\n"
     ]
    },
    {
     "data": {
      "text/markdown": [
       "<center><font color='Yellow' size='6'><strong>Input Prompt for Example Number 2929:</strong></center></font>\n",
       "\n",
       "<font color='aquamarine' size='5'><strong>System: </strong></font>\n",
       "You are an AI assistant tasked with answering questions based solely on the provided context. Carefully read the following Context and Question. Your answer must be derived only from the information present in the Context. Do not use any external knowledge or make assumptions beyond what is explicitly stated in the Context.\n",
       "If the answer to the Question cannot be found within the Context, you must explicitly state: 'The answer cannot be found in the provided context.'\n",
       "\n",
       "<font color='crimson' size='5'><strong>Question: </strong></font>\n",
       "Tell me a few flaws of the Human Development Index from this passage \n",
       "\n",
       "<font color='cyan' size='5'><strong>Context: </strong></font>\n",
       "The Human Development Index (HDI) is a statistic composite index of life expectancy, education (mean years of schooling completed and expected years of schooling upon entering the education system), and per capita income indicators, which is used to rank countries into four tiers of human development. A country scores a higher level of HDI when the lifespan is higher, the education level is higher, and the gross national income GNI (PPP) per capita is higher. It was developed by Pakistani economist Mahbub ul Haq and was further used to measure a country's development by the United Nations Development Programme (UNDP)'s Human Development Report Office.\n",
       "\n",
       "The 2010 Human Development Report introduced an Inequality-adjusted Human Development Index (IHDI). While the simple HDI remains useful, it stated that \"the IHDI is the actual level of human development (accounting for inequality), while the HDI can be viewed as an index of 'potential' human development (or the maximum level of HDI) that could be achieved if there were no inequality.\"\n",
       "\n",
       "The index is based on the human development approach, developed by Mahbub ul Haq, anchored in Amartya Sen's work on human capabilities, and often framed in terms of whether people are able to \"be\" and \"do\" desirable things in life. Examples include – being: well fed, sheltered, and healthy; doing: work, education, voting, participating in community life. The freedom of choice is central – someone choosing to be hungry (e.g. when fasting for religious reasons) is quite different from someone who is hungry because they cannot afford to buy food, or because the country is in a famine.\n",
       "\n",
       "The index does not take into account several factors, such as the net wealth per capita or the relative quality of goods in a country. This situation tends to lower the ranking of some of the most developed countries, such as the G7 members and others.\n",
       "\n",
       "<font color='lightgreen' size='5'><strong>Answer: </strong></font>\n",
       "\n",
       "\n",
       "<center><font color='Yellow' size='6'><strong>Answer as per Dataset:</strong></center></font>\n",
       "\n",
       "Human Development Index has been revised in 2010 owing to a few limitations. HDI is believed to estimate the 'potential' human development that could be achieved if there were no inequality. The revised Inequality-adjusted Human Development Index (IHDI) is the actual level of human development (accounting for inequality). Secondly, HDI does not take into account several factors, such as the net wealth per capita or the relative quality of goods in a country. This situation tends to lower the ranking of some of the most developed countries, such as the G7 members and others.\n",
       "\n",
       "<center><font color='Yellow' size='6'><strong>Gemma 3 Response:</strong></center></font>\n",
       "\n",
       "The HDI is a composite index of life expectancy, education (mean years of schooling completed and expected years of schooling upon entering the education system), and per capita income indicators, which is used to rank countries into four tiers of human development. A country scores a higher level of HDI when the lifespan is higher, the education level is higher, and the gross national income GNI (PPP) per capita is higher. It was developed by Pakistani economist Mahbub ul Haq and was further used to measure a country's development by the United Nations Development Programme (UNDP)'s Human Development Report Office.\n",
       "\n",
       "The 2010 Human Development Report introduced an Inequality-adjusted Human Development Index (IHDI). While the simple HDI remains useful, it stated that \"the IHDI is the actual level of human development (accounting for inequality), while the HDI can be viewed as an index of 'potential' human development (or the maximum level of HDI) that could be achieved if there were no inequality.\"\n",
       "\n",
       "The index is based on the human development approach, developed by Mahbub ul Haq, anchored in Amartya Sen's work on human capabilities, and often framed in terms of whether people are able to \"be\" and \"do\" desirable things in life. Examples include – being: well fed, sheltered, and healthy; doing: work, education, voting, participating in community life. The freedom of choice is central – someone choosing to be hungry (e.g. when fasting forThe HDI is a composite index of life expectancy, education (mean years of schooling completed and expected years of schooling upon entering the education system), and per capita income indicators, which is used to rank countries into four tiers of human development. A country scores a higher level of HDI when the lifespan is higher, the education level is higher, and the gross national income GNI (PPP) per capita is higher. It was developed by Pakistani economist Mahbub ul Haq and was further used to measure a country's development by the United Nations Development Programme (UNDP)'s Human Development Report Office.\n",
       "\n",
       "The 2010 Human Development Report introduced an Inequality-adjusted Human Development Index (IHDI). While the simple HDI remains useful, it stated that \"the IHDI is the actual level of human development (accounting for inequality), while the HDI can be viewed as an index of 'potential' human development (or the maximum level of HDI) that could be achieved if there were no inequality.\"\n",
       "\n",
       "The index is based on the human development approach, developed by Mahbub ul Haq, anchored in Amartya Sen's work on human capabilities, and often framed in terms of whether people are able to \"be\" and \"do\" desirable things in life. Examples include – being: well fed, sheltered, and healthy; doing: work, education, voting, participating in community life. The freedom of choice is central – someone choosing to be hungry (e.g. when fasting for"
      ],
      "text/plain": [
       "<IPython.core.display.Markdown object>"
      ]
     },
     "metadata": {},
     "output_type": "display_data"
    }
   ],
   "source": [
    "display(Markdown(generate_inference()))"
   ]
  },
  {
   "cell_type": "code",
   "execution_count": 17,
   "id": "31177980",
   "metadata": {
    "execution": {
     "iopub.execute_input": "2025-05-16T18:17:31.572762Z",
     "iopub.status.busy": "2025-05-16T18:17:31.572499Z",
     "iopub.status.idle": "2025-05-16T18:18:07.009884Z",
     "shell.execute_reply": "2025-05-16T18:18:07.009090Z"
    },
    "papermill": {
     "duration": 35.45335,
     "end_time": "2025-05-16T18:18:07.017780",
     "exception": false,
     "start_time": "2025-05-16T18:17:31.564430",
     "status": "completed"
    },
    "tags": []
   },
   "outputs": [
    {
     "data": {
      "text/markdown": [
       "<center><font color='Yellow' size='6'><strong>Input Prompt for Example Number 534:</strong></center></font>\n",
       "\n",
       "<font color='aquamarine' size='5'><strong>System: </strong></font>\n",
       "You are an AI assistant tasked with answering questions based solely on the provided context. Carefully read the following Context and Question. Your answer must be derived only from the information present in the Context. Do not use any external knowledge or make assumptions beyond what is explicitly stated in the Context.\n",
       "If the answer to the Question cannot be found within the Context, you must explicitly state: 'The answer cannot be found in the provided context.'\n",
       "\n",
       "<font color='crimson' size='5'><strong>Question: </strong></font>\n",
       "Which companies did Theranos partner with in 2015? \n",
       "\n",
       "<font color='cyan' size='5'><strong>Context: </strong></font>\n",
       "In 2012 Safeway invested $350 million into retrofitting 800 locations with clinics that would offer in-store blood tests. After many missed deadlines and questionable results from a trial clinic at Safeway's corporate offices, the deal was terminated in 2015.[18] In 2013, Theranos partnered with Walgreens to offer in-store blood tests at more than 40 locations.[19] Although Theranos blood tests were reportedly used on drug trial patients for GlaxoSmithKline and Pfizer, both companies stated that there were no active projects with Theranos in October 2015.[20][21] In June 2016, Walgreens terminated its partnership with Theranos. In November 2016 it filed suit against Theranos in federal court in Delaware for breach of contract. In June 2017, Theranos reported to investors that the suit, which originally sought $140 million in damages, was settled for less than $30 million.[22][23]\n",
       "\n",
       "In March 2015 the Cleveland Clinic announced a partnership with Theranos to test its technology and decrease the cost of lab tests.[24][25] In July 2015, Theranos became the lab-work provider for Pennsylvania insurers AmeriHealth Caritas and Capital Blue Cross.[26][27]\n",
       "\n",
       "In July 2015 the Food and Drug Administration approved the use of the company's fingerstick blood testing device for the herpes simplex virus (HSV-1) outside a clinical laboratory setting.[28][29] Theranos was named the 2015 Bioscience Company of the Year by the Arizona BioIndustry Association (AzBio).[30]\n",
       "\n",
       "<font color='lightgreen' size='5'><strong>Answer: </strong></font>\n",
       "\n",
       "\n",
       "<center><font color='Yellow' size='6'><strong>Answer as per Dataset:</strong></center></font>\n",
       "\n",
       "Theranos partnered with Cleveland Clinic in March 2015 to test its technology and decrease the cost of lab tests. In July 2015, Theranos became the lab-work provider for Pennsylvania insurers AmeriHealth Caritas and Capital Blue Cross.\n",
       "\n",
       "<center><font color='Yellow' size='6'><strong>Gemma 3 Response:</strong></center></font>\n",
       "\n",
       "The answer to the question is: \n",
       "The answer cannot be found in the provided context.The answer to the question is: \n",
       "The answer cannot be found in the provided context."
      ],
      "text/plain": [
       "<IPython.core.display.Markdown object>"
      ]
     },
     "metadata": {},
     "output_type": "display_data"
    }
   ],
   "source": [
    "display(Markdown(generate_inference()))"
   ]
  },
  {
   "cell_type": "markdown",
   "id": "7ea9f0b8",
   "metadata": {
    "papermill": {
     "duration": 0.007364,
     "end_time": "2025-05-16T18:18:07.032539",
     "exception": false,
     "start_time": "2025-05-16T18:18:07.025175",
     "status": "completed"
    },
    "tags": []
   },
   "source": [
    "# Fine-tuning with LoRA:"
   ]
  },
  {
   "cell_type": "code",
   "execution_count": 18,
   "id": "300832d0",
   "metadata": {
    "execution": {
     "iopub.execute_input": "2025-05-16T18:18:07.048414Z",
     "iopub.status.busy": "2025-05-16T18:18:07.047988Z",
     "iopub.status.idle": "2025-05-16T18:18:07.265913Z",
     "shell.execute_reply": "2025-05-16T18:18:07.265333Z"
    },
    "papermill": {
     "duration": 0.227245,
     "end_time": "2025-05-16T18:18:07.267002",
     "exception": false,
     "start_time": "2025-05-16T18:18:07.039757",
     "status": "completed"
    },
    "tags": []
   },
   "outputs": [
    {
     "data": {
      "text/html": [
       "<pre style=\"white-space:pre;overflow-x:auto;line-height:normal;font-family:Menlo,'DejaVu Sans Mono',consolas,'Courier New',monospace\"><span style=\"font-weight: bold\">Preprocessor: \"gemma3_causal_lm_preprocessor\"</span>\n",
       "</pre>\n"
      ],
      "text/plain": [
       "\u001b[1mPreprocessor: \"gemma3_causal_lm_preprocessor\"\u001b[0m\n"
      ]
     },
     "metadata": {},
     "output_type": "display_data"
    },
    {
     "data": {
      "text/html": [
       "<pre style=\"white-space:pre;overflow-x:auto;line-height:normal;font-family:Menlo,'DejaVu Sans Mono',consolas,'Courier New',monospace\">┏━━━━━━━━━━━━━━━━━━━━━━━━━━━━━━━━━━━━━━━━━━━━━━━━━━━━━━━━━━━━━━━┳━━━━━━━━━━━━━━━━━━━━━━━━━━━━━━━━━━━━━━━━━━┓\n",
       "┃<span style=\"font-weight: bold\"> Layer (type)                                                  </span>┃<span style=\"font-weight: bold\">                                   Config </span>┃\n",
       "┡━━━━━━━━━━━━━━━━━━━━━━━━━━━━━━━━━━━━━━━━━━━━━━━━━━━━━━━━━━━━━━━╇━━━━━━━━━━━━━━━━━━━━━━━━━━━━━━━━━━━━━━━━━━┩\n",
       "│ gemma3_tokenizer (<span style=\"color: #0087ff; text-decoration-color: #0087ff\">Gemma3Tokenizer</span>)                            │                      Vocab size: <span style=\"color: #00af00; text-decoration-color: #00af00\">262,144</span> │\n",
       "└───────────────────────────────────────────────────────────────┴──────────────────────────────────────────┘\n",
       "</pre>\n"
      ],
      "text/plain": [
       "┏━━━━━━━━━━━━━━━━━━━━━━━━━━━━━━━━━━━━━━━━━━━━━━━━━━━━━━━━━━━━━━━┳━━━━━━━━━━━━━━━━━━━━━━━━━━━━━━━━━━━━━━━━━━┓\n",
       "┃\u001b[1m \u001b[0m\u001b[1mLayer (type)                                                 \u001b[0m\u001b[1m \u001b[0m┃\u001b[1m \u001b[0m\u001b[1m                                  Config\u001b[0m\u001b[1m \u001b[0m┃\n",
       "┡━━━━━━━━━━━━━━━━━━━━━━━━━━━━━━━━━━━━━━━━━━━━━━━━━━━━━━━━━━━━━━━╇━━━━━━━━━━━━━━━━━━━━━━━━━━━━━━━━━━━━━━━━━━┩\n",
       "│ gemma3_tokenizer (\u001b[38;5;33mGemma3Tokenizer\u001b[0m)                            │                      Vocab size: \u001b[38;5;34m262,144\u001b[0m │\n",
       "└───────────────────────────────────────────────────────────────┴──────────────────────────────────────────┘\n"
      ]
     },
     "metadata": {},
     "output_type": "display_data"
    },
    {
     "data": {
      "text/html": [
       "<pre style=\"white-space:pre;overflow-x:auto;line-height:normal;font-family:Menlo,'DejaVu Sans Mono',consolas,'Courier New',monospace\"><span style=\"font-weight: bold\">Model: \"gemma3_causal_lm\"</span>\n",
       "</pre>\n"
      ],
      "text/plain": [
       "\u001b[1mModel: \"gemma3_causal_lm\"\u001b[0m\n"
      ]
     },
     "metadata": {},
     "output_type": "display_data"
    },
    {
     "data": {
      "text/html": [
       "<pre style=\"white-space:pre;overflow-x:auto;line-height:normal;font-family:Menlo,'DejaVu Sans Mono',consolas,'Courier New',monospace\">┏━━━━━━━━━━━━━━━━━━━━━━━━━━━━━━━┳━━━━━━━━━━━━━━━━━━━━━━━━━━━┳━━━━━━━━━━━━━━━━━┳━━━━━━━━━━━━━━━━━━━━━━━━━━━━┓\n",
       "┃<span style=\"font-weight: bold\"> Layer (type)                  </span>┃<span style=\"font-weight: bold\"> Output Shape              </span>┃<span style=\"font-weight: bold\">         Param # </span>┃<span style=\"font-weight: bold\"> Connected to               </span>┃\n",
       "┡━━━━━━━━━━━━━━━━━━━━━━━━━━━━━━━╇━━━━━━━━━━━━━━━━━━━━━━━━━━━╇━━━━━━━━━━━━━━━━━╇━━━━━━━━━━━━━━━━━━━━━━━━━━━━┩\n",
       "│ padding_mask (<span style=\"color: #0087ff; text-decoration-color: #0087ff\">InputLayer</span>)     │ (<span style=\"color: #00d7ff; text-decoration-color: #00d7ff\">None</span>, <span style=\"color: #00d7ff; text-decoration-color: #00d7ff\">None</span>)              │               <span style=\"color: #00af00; text-decoration-color: #00af00\">0</span> │ -                          │\n",
       "├───────────────────────────────┼───────────────────────────┼─────────────────┼────────────────────────────┤\n",
       "│ token_ids (<span style=\"color: #0087ff; text-decoration-color: #0087ff\">InputLayer</span>)        │ (<span style=\"color: #00d7ff; text-decoration-color: #00d7ff\">None</span>, <span style=\"color: #00d7ff; text-decoration-color: #00d7ff\">None</span>)              │               <span style=\"color: #00af00; text-decoration-color: #00af00\">0</span> │ -                          │\n",
       "├───────────────────────────────┼───────────────────────────┼─────────────────┼────────────────────────────┤\n",
       "│ gemma3_backbone               │ (<span style=\"color: #00d7ff; text-decoration-color: #00d7ff\">None</span>, <span style=\"color: #00d7ff; text-decoration-color: #00d7ff\">None</span>, <span style=\"color: #00af00; text-decoration-color: #00af00\">1152</span>)        │   <span style=\"color: #00af00; text-decoration-color: #00af00\">1,000,538,240</span> │ padding_mask[<span style=\"color: #00af00; text-decoration-color: #00af00\">0</span>][<span style=\"color: #00af00; text-decoration-color: #00af00\">0</span>],        │\n",
       "│ (<span style=\"color: #0087ff; text-decoration-color: #0087ff\">Gemma3Backbone</span>)              │                           │                 │ token_ids[<span style=\"color: #00af00; text-decoration-color: #00af00\">0</span>][<span style=\"color: #00af00; text-decoration-color: #00af00\">0</span>]            │\n",
       "├───────────────────────────────┼───────────────────────────┼─────────────────┼────────────────────────────┤\n",
       "│ token_embedding               │ (<span style=\"color: #00d7ff; text-decoration-color: #00d7ff\">None</span>, <span style=\"color: #00d7ff; text-decoration-color: #00d7ff\">None</span>, <span style=\"color: #00af00; text-decoration-color: #00af00\">262144</span>)      │     <span style=\"color: #00af00; text-decoration-color: #00af00\">301,989,888</span> │ gemma3_backbone[<span style=\"color: #00af00; text-decoration-color: #00af00\">0</span>][<span style=\"color: #00af00; text-decoration-color: #00af00\">0</span>]      │\n",
       "│ (<span style=\"color: #0087ff; text-decoration-color: #0087ff\">ReversibleEmbedding</span>)         │                           │                 │                            │\n",
       "└───────────────────────────────┴───────────────────────────┴─────────────────┴────────────────────────────┘\n",
       "</pre>\n"
      ],
      "text/plain": [
       "┏━━━━━━━━━━━━━━━━━━━━━━━━━━━━━━━┳━━━━━━━━━━━━━━━━━━━━━━━━━━━┳━━━━━━━━━━━━━━━━━┳━━━━━━━━━━━━━━━━━━━━━━━━━━━━┓\n",
       "┃\u001b[1m \u001b[0m\u001b[1mLayer (type)                 \u001b[0m\u001b[1m \u001b[0m┃\u001b[1m \u001b[0m\u001b[1mOutput Shape             \u001b[0m\u001b[1m \u001b[0m┃\u001b[1m \u001b[0m\u001b[1m        Param #\u001b[0m\u001b[1m \u001b[0m┃\u001b[1m \u001b[0m\u001b[1mConnected to              \u001b[0m\u001b[1m \u001b[0m┃\n",
       "┡━━━━━━━━━━━━━━━━━━━━━━━━━━━━━━━╇━━━━━━━━━━━━━━━━━━━━━━━━━━━╇━━━━━━━━━━━━━━━━━╇━━━━━━━━━━━━━━━━━━━━━━━━━━━━┩\n",
       "│ padding_mask (\u001b[38;5;33mInputLayer\u001b[0m)     │ (\u001b[38;5;45mNone\u001b[0m, \u001b[38;5;45mNone\u001b[0m)              │               \u001b[38;5;34m0\u001b[0m │ -                          │\n",
       "├───────────────────────────────┼───────────────────────────┼─────────────────┼────────────────────────────┤\n",
       "│ token_ids (\u001b[38;5;33mInputLayer\u001b[0m)        │ (\u001b[38;5;45mNone\u001b[0m, \u001b[38;5;45mNone\u001b[0m)              │               \u001b[38;5;34m0\u001b[0m │ -                          │\n",
       "├───────────────────────────────┼───────────────────────────┼─────────────────┼────────────────────────────┤\n",
       "│ gemma3_backbone               │ (\u001b[38;5;45mNone\u001b[0m, \u001b[38;5;45mNone\u001b[0m, \u001b[38;5;34m1152\u001b[0m)        │   \u001b[38;5;34m1,000,538,240\u001b[0m │ padding_mask[\u001b[38;5;34m0\u001b[0m][\u001b[38;5;34m0\u001b[0m],        │\n",
       "│ (\u001b[38;5;33mGemma3Backbone\u001b[0m)              │                           │                 │ token_ids[\u001b[38;5;34m0\u001b[0m][\u001b[38;5;34m0\u001b[0m]            │\n",
       "├───────────────────────────────┼───────────────────────────┼─────────────────┼────────────────────────────┤\n",
       "│ token_embedding               │ (\u001b[38;5;45mNone\u001b[0m, \u001b[38;5;45mNone\u001b[0m, \u001b[38;5;34m262144\u001b[0m)      │     \u001b[38;5;34m301,989,888\u001b[0m │ gemma3_backbone[\u001b[38;5;34m0\u001b[0m][\u001b[38;5;34m0\u001b[0m]      │\n",
       "│ (\u001b[38;5;33mReversibleEmbedding\u001b[0m)         │                           │                 │                            │\n",
       "└───────────────────────────────┴───────────────────────────┴─────────────────┴────────────────────────────┘\n"
      ]
     },
     "metadata": {},
     "output_type": "display_data"
    },
    {
     "data": {
      "text/html": [
       "<pre style=\"white-space:pre;overflow-x:auto;line-height:normal;font-family:Menlo,'DejaVu Sans Mono',consolas,'Courier New',monospace\"><span style=\"font-weight: bold\"> Total params: </span><span style=\"color: #00af00; text-decoration-color: #00af00\">1,000,538,240</span> (3.73 GB)\n",
       "</pre>\n"
      ],
      "text/plain": [
       "\u001b[1m Total params: \u001b[0m\u001b[38;5;34m1,000,538,240\u001b[0m (3.73 GB)\n"
      ]
     },
     "metadata": {},
     "output_type": "display_data"
    },
    {
     "data": {
      "text/html": [
       "<pre style=\"white-space:pre;overflow-x:auto;line-height:normal;font-family:Menlo,'DejaVu Sans Mono',consolas,'Courier New',monospace\"><span style=\"font-weight: bold\"> Trainable params: </span><span style=\"color: #00af00; text-decoration-color: #00af00\">652,288</span> (2.49 MB)\n",
       "</pre>\n"
      ],
      "text/plain": [
       "\u001b[1m Trainable params: \u001b[0m\u001b[38;5;34m652,288\u001b[0m (2.49 MB)\n"
      ]
     },
     "metadata": {},
     "output_type": "display_data"
    },
    {
     "data": {
      "text/html": [
       "<pre style=\"white-space:pre;overflow-x:auto;line-height:normal;font-family:Menlo,'DejaVu Sans Mono',consolas,'Courier New',monospace\"><span style=\"font-weight: bold\"> Non-trainable params: </span><span style=\"color: #00af00; text-decoration-color: #00af00\">999,885,952</span> (3.72 GB)\n",
       "</pre>\n"
      ],
      "text/plain": [
       "\u001b[1m Non-trainable params: \u001b[0m\u001b[38;5;34m999,885,952\u001b[0m (3.72 GB)\n"
      ]
     },
     "metadata": {},
     "output_type": "display_data"
    }
   ],
   "source": [
    "gemma3_1b.backbone.enable_lora(rank=4)\n",
    "gemma3_1b.summary()"
   ]
  },
  {
   "cell_type": "code",
   "execution_count": 19,
   "id": "5702dd4a",
   "metadata": {
    "execution": {
     "iopub.execute_input": "2025-05-16T18:18:07.284969Z",
     "iopub.status.busy": "2025-05-16T18:18:07.284751Z",
     "iopub.status.idle": "2025-05-16T18:18:07.292888Z",
     "shell.execute_reply": "2025-05-16T18:18:07.292362Z"
    },
    "papermill": {
     "duration": 0.018169,
     "end_time": "2025-05-16T18:18:07.293920",
     "exception": false,
     "start_time": "2025-05-16T18:18:07.275751",
     "status": "completed"
    },
    "tags": []
   },
   "outputs": [],
   "source": [
    "gemma3_1b.preprocessor.sequence_length = 1024\n",
    "\n",
    "optimizer = keras.optimizers.AdamW(\n",
    "    learning_rate=5e-5,\n",
    "    weight_decay=0.01,\n",
    ")\n",
    "\n",
    "# Exclude layernorm and bias terms from decay.\n",
    "optimizer.exclude_from_weight_decay(var_names=[\"bias\", \"scale\"])"
   ]
  },
  {
   "cell_type": "code",
   "execution_count": 20,
   "id": "80e8151c",
   "metadata": {
    "execution": {
     "iopub.execute_input": "2025-05-16T18:18:07.311548Z",
     "iopub.status.busy": "2025-05-16T18:18:07.310905Z",
     "iopub.status.idle": "2025-05-16T18:18:07.318819Z",
     "shell.execute_reply": "2025-05-16T18:18:07.318318Z"
    },
    "papermill": {
     "duration": 0.017842,
     "end_time": "2025-05-16T18:18:07.319952",
     "exception": false,
     "start_time": "2025-05-16T18:18:07.302110",
     "status": "completed"
    },
    "tags": []
   },
   "outputs": [],
   "source": [
    "gemma3_1b.compile(\n",
    "    loss=keras.losses.SparseCategoricalCrossentropy(from_logits=True),\n",
    "    optimizer=optimizer,\n",
    "    weighted_metrics=[keras.metrics.SparseCategoricalAccuracy()],\n",
    ")"
   ]
  },
  {
   "cell_type": "code",
   "execution_count": 21,
   "id": "7dea9f4d",
   "metadata": {
    "execution": {
     "iopub.execute_input": "2025-05-16T18:18:07.337747Z",
     "iopub.status.busy": "2025-05-16T18:18:07.337543Z",
     "iopub.status.idle": "2025-05-16T20:30:55.511124Z",
     "shell.execute_reply": "2025-05-16T20:30:55.510531Z"
    },
    "papermill": {
     "duration": 7968.183926,
     "end_time": "2025-05-16T20:30:55.512353",
     "exception": false,
     "start_time": "2025-05-16T18:18:07.328427",
     "status": "completed"
    },
    "tags": []
   },
   "outputs": [
    {
     "name": "stdout",
     "output_type": "stream",
     "text": [
      "Epoch 1/25\n"
     ]
    },
    {
     "name": "stderr",
     "output_type": "stream",
     "text": [
      "W0000 00:00:1747419570.224663      75 assert_op.cc:38] Ignoring Assert operator compile_loss/sparse_categorical_crossentropy/SparseSoftmaxCrossEntropyWithLogits/assert_equal_1/Assert/Assert\n"
     ]
    },
    {
     "name": "stdout",
     "output_type": "stream",
     "text": [
      "\u001b[1m500/500\u001b[0m \u001b[32m━━━━━━━━━━━━━━━━━━━━\u001b[0m\u001b[37m\u001b[0m \u001b[1m420s\u001b[0m 629ms/step - loss: 0.0723 - sparse_categorical_accuracy: 0.7469\n",
      "Epoch 2/25\n",
      "\u001b[1m500/500\u001b[0m \u001b[32m━━━━━━━━━━━━━━━━━━━━\u001b[0m\u001b[37m\u001b[0m \u001b[1m315s\u001b[0m 629ms/step - loss: 0.0686 - sparse_categorical_accuracy: 0.7489\n",
      "Epoch 3/25\n",
      "\u001b[1m500/500\u001b[0m \u001b[32m━━━━━━━━━━━━━━━━━━━━\u001b[0m\u001b[37m\u001b[0m \u001b[1m315s\u001b[0m 629ms/step - loss: 0.0644 - sparse_categorical_accuracy: 0.7463\n",
      "Epoch 4/25\n",
      "\u001b[1m500/500\u001b[0m \u001b[32m━━━━━━━━━━━━━━━━━━━━\u001b[0m\u001b[37m\u001b[0m \u001b[1m314s\u001b[0m 628ms/step - loss: 0.0908 - sparse_categorical_accuracy: 0.7254\n",
      "Epoch 5/25\n",
      "\u001b[1m500/500\u001b[0m \u001b[32m━━━━━━━━━━━━━━━━━━━━\u001b[0m\u001b[37m\u001b[0m \u001b[1m314s\u001b[0m 628ms/step - loss: 0.0681 - sparse_categorical_accuracy: 0.7602\n",
      "Epoch 6/25\n",
      "\u001b[1m500/500\u001b[0m \u001b[32m━━━━━━━━━━━━━━━━━━━━\u001b[0m\u001b[37m\u001b[0m \u001b[1m315s\u001b[0m 629ms/step - loss: 0.0670 - sparse_categorical_accuracy: 0.7496\n",
      "Epoch 7/25\n",
      "\u001b[1m500/500\u001b[0m \u001b[32m━━━━━━━━━━━━━━━━━━━━\u001b[0m\u001b[37m\u001b[0m \u001b[1m315s\u001b[0m 629ms/step - loss: 0.0657 - sparse_categorical_accuracy: 0.7614\n",
      "Epoch 8/25\n",
      "\u001b[1m500/500\u001b[0m \u001b[32m━━━━━━━━━━━━━━━━━━━━\u001b[0m\u001b[37m\u001b[0m \u001b[1m315s\u001b[0m 629ms/step - loss: 0.0552 - sparse_categorical_accuracy: 0.7874\n",
      "Epoch 9/25\n",
      "\u001b[1m500/500\u001b[0m \u001b[32m━━━━━━━━━━━━━━━━━━━━\u001b[0m\u001b[37m\u001b[0m \u001b[1m315s\u001b[0m 629ms/step - loss: 0.0636 - sparse_categorical_accuracy: 0.7807\n",
      "Epoch 10/25\n",
      "\u001b[1m500/500\u001b[0m \u001b[32m━━━━━━━━━━━━━━━━━━━━\u001b[0m\u001b[37m\u001b[0m \u001b[1m314s\u001b[0m 628ms/step - loss: 0.0521 - sparse_categorical_accuracy: 0.7886\n",
      "Epoch 11/25\n",
      "\u001b[1m500/500\u001b[0m \u001b[32m━━━━━━━━━━━━━━━━━━━━\u001b[0m\u001b[37m\u001b[0m \u001b[1m315s\u001b[0m 629ms/step - loss: 0.0626 - sparse_categorical_accuracy: 0.7686\n",
      "Epoch 12/25\n",
      "\u001b[1m500/500\u001b[0m \u001b[32m━━━━━━━━━━━━━━━━━━━━\u001b[0m\u001b[37m\u001b[0m \u001b[1m314s\u001b[0m 628ms/step - loss: 0.0509 - sparse_categorical_accuracy: 0.8013\n",
      "Epoch 13/25\n",
      "\u001b[1m500/500\u001b[0m \u001b[32m━━━━━━━━━━━━━━━━━━━━\u001b[0m\u001b[37m\u001b[0m \u001b[1m314s\u001b[0m 628ms/step - loss: 0.0563 - sparse_categorical_accuracy: 0.7993\n",
      "Epoch 14/25\n",
      "\u001b[1m500/500\u001b[0m \u001b[32m━━━━━━━━━━━━━━━━━━━━\u001b[0m\u001b[37m\u001b[0m \u001b[1m314s\u001b[0m 628ms/step - loss: 0.0497 - sparse_categorical_accuracy: 0.8192\n",
      "Epoch 15/25\n",
      "\u001b[1m500/500\u001b[0m \u001b[32m━━━━━━━━━━━━━━━━━━━━\u001b[0m\u001b[37m\u001b[0m \u001b[1m314s\u001b[0m 628ms/step - loss: 0.0496 - sparse_categorical_accuracy: 0.8232\n",
      "Epoch 16/25\n",
      "\u001b[1m500/500\u001b[0m \u001b[32m━━━━━━━━━━━━━━━━━━━━\u001b[0m\u001b[37m\u001b[0m \u001b[1m314s\u001b[0m 628ms/step - loss: 0.0544 - sparse_categorical_accuracy: 0.8004\n",
      "Epoch 17/25\n",
      "\u001b[1m500/500\u001b[0m \u001b[32m━━━━━━━━━━━━━━━━━━━━\u001b[0m\u001b[37m\u001b[0m \u001b[1m314s\u001b[0m 628ms/step - loss: 0.0457 - sparse_categorical_accuracy: 0.8172\n",
      "Epoch 18/25\n",
      "\u001b[1m500/500\u001b[0m \u001b[32m━━━━━━━━━━━━━━━━━━━━\u001b[0m\u001b[37m\u001b[0m \u001b[1m314s\u001b[0m 628ms/step - loss: 0.0433 - sparse_categorical_accuracy: 0.8275\n",
      "Epoch 19/25\n",
      "\u001b[1m500/500\u001b[0m \u001b[32m━━━━━━━━━━━━━━━━━━━━\u001b[0m\u001b[37m\u001b[0m \u001b[1m314s\u001b[0m 628ms/step - loss: 0.0439 - sparse_categorical_accuracy: 0.8356\n",
      "Epoch 20/25\n",
      "\u001b[1m500/500\u001b[0m \u001b[32m━━━━━━━━━━━━━━━━━━━━\u001b[0m\u001b[37m\u001b[0m \u001b[1m314s\u001b[0m 628ms/step - loss: 0.0512 - sparse_categorical_accuracy: 0.8293\n",
      "Epoch 21/25\n",
      "\u001b[1m500/500\u001b[0m \u001b[32m━━━━━━━━━━━━━━━━━━━━\u001b[0m\u001b[37m\u001b[0m \u001b[1m314s\u001b[0m 628ms/step - loss: 0.0349 - sparse_categorical_accuracy: 0.8681\n",
      "Epoch 22/25\n",
      "\u001b[1m500/500\u001b[0m \u001b[32m━━━━━━━━━━━━━━━━━━━━\u001b[0m\u001b[37m\u001b[0m \u001b[1m314s\u001b[0m 628ms/step - loss: 0.0361 - sparse_categorical_accuracy: 0.8684\n",
      "Epoch 23/25\n",
      "\u001b[1m500/500\u001b[0m \u001b[32m━━━━━━━━━━━━━━━━━━━━\u001b[0m\u001b[37m\u001b[0m \u001b[1m314s\u001b[0m 628ms/step - loss: 0.0387 - sparse_categorical_accuracy: 0.8620\n",
      "Epoch 24/25\n",
      "\u001b[1m500/500\u001b[0m \u001b[32m━━━━━━━━━━━━━━━━━━━━\u001b[0m\u001b[37m\u001b[0m \u001b[1m314s\u001b[0m 628ms/step - loss: 0.0371 - sparse_categorical_accuracy: 0.8755\n",
      "Epoch 25/25\n",
      "\u001b[1m500/500\u001b[0m \u001b[32m━━━━━━━━━━━━━━━━━━━━\u001b[0m\u001b[37m\u001b[0m \u001b[1m314s\u001b[0m 628ms/step - loss: 0.0302 - sparse_categorical_accuracy: 0.8803\n"
     ]
    }
   ],
   "source": [
    "history = gemma3_1b.fit(dataset, epochs=25)"
   ]
  },
  {
   "cell_type": "markdown",
   "id": "1f9a0dee",
   "metadata": {
    "papermill": {
     "duration": 0.529514,
     "end_time": "2025-05-16T20:30:56.575357",
     "exception": false,
     "start_time": "2025-05-16T20:30:56.045843",
     "status": "completed"
    },
    "tags": []
   },
   "source": [
    "# Plotting Training Metric:"
   ]
  },
  {
   "cell_type": "code",
   "execution_count": 22,
   "id": "f0b4a61b",
   "metadata": {
    "execution": {
     "iopub.execute_input": "2025-05-16T20:30:57.686199Z",
     "iopub.status.busy": "2025-05-16T20:30:57.685915Z",
     "iopub.status.idle": "2025-05-16T20:30:57.690709Z",
     "shell.execute_reply": "2025-05-16T20:30:57.690105Z"
    },
    "papermill": {
     "duration": 0.528963,
     "end_time": "2025-05-16T20:30:57.691842",
     "exception": false,
     "start_time": "2025-05-16T20:30:57.162879",
     "status": "completed"
    },
    "tags": []
   },
   "outputs": [],
   "source": [
    "def plot_model_metric(metric):\n",
    "    plt.figure(dpi=120)\n",
    "    plt.plot(history.history[metric], label=metric)\n",
    "    # plt.plot(history.history[f'val_{metric}'], label=f'val_{metric}')\n",
    "    plt.xlabel('Epoch')\n",
    "    plt.ylabel(metric)\n",
    "    plt.legend()\n",
    "    plt.title(f'{metric} over Epochs')\n",
    "    plt.show();"
   ]
  },
  {
   "cell_type": "code",
   "execution_count": 23,
   "id": "17dab69f",
   "metadata": {
    "execution": {
     "iopub.execute_input": "2025-05-16T20:30:58.837270Z",
     "iopub.status.busy": "2025-05-16T20:30:58.836538Z",
     "iopub.status.idle": "2025-05-16T20:30:59.011674Z",
     "shell.execute_reply": "2025-05-16T20:30:59.010908Z"
    },
    "papermill": {
     "duration": 0.736928,
     "end_time": "2025-05-16T20:30:59.012854",
     "exception": false,
     "start_time": "2025-05-16T20:30:58.275926",
     "status": "completed"
    },
    "tags": []
   },
   "outputs": [
    {
     "data": {
      "image/png": "[encoded data removed]",
      "text/plain": [
       "<Figure size 768x576 with 1 Axes>"
      ]
     },
     "metadata": {},
     "output_type": "display_data"
    }
   ],
   "source": [
    "plot_model_metric('sparse_categorical_accuracy')"
   ]
  },
  {
   "cell_type": "markdown",
   "id": "cd17f4eb",
   "metadata": {
    "papermill": {
     "duration": 0.592842,
     "end_time": "2025-05-16T20:31:00.130975",
     "exception": false,
     "start_time": "2025-05-16T20:30:59.538133",
     "status": "completed"
    },
    "tags": []
   },
   "source": [
    "# Inference After Fine-tuning:"
   ]
  },
  {
   "cell_type": "code",
   "execution_count": 24,
   "id": "3d81fb75",
   "metadata": {
    "execution": {
     "iopub.execute_input": "2025-05-16T20:31:01.171224Z",
     "iopub.status.busy": "2025-05-16T20:31:01.170371Z",
     "iopub.status.idle": "2025-05-16T20:31:36.599245Z",
     "shell.execute_reply": "2025-05-16T20:31:36.598506Z"
    },
    "papermill": {
     "duration": 36.543941,
     "end_time": "2025-05-16T20:31:37.193685",
     "exception": false,
     "start_time": "2025-05-16T20:31:00.649744",
     "status": "completed"
    },
    "tags": []
   },
   "outputs": [
    {
     "data": {
      "text/markdown": [
       "<center><font color='Yellow' size='6'><strong>Input Prompt for Example Number 771:</strong></center></font>\n",
       "\n",
       "<font color='aquamarine' size='5'><strong>System: </strong></font>\n",
       "You are an AI assistant tasked with answering questions based solely on the provided context. Carefully read the following Context and Question. Your answer must be derived only from the information present in the Context. Do not use any external knowledge or make assumptions beyond what is explicitly stated in the Context.\n",
       "If the answer to the Question cannot be found within the Context, you must explicitly state: 'The answer cannot be found in the provided context.'\n",
       "\n",
       "<font color='crimson' size='5'><strong>Question: </strong></font>\n",
       "Of the living animal species which have been described, which group has the most? \n",
       "\n",
       "<font color='cyan' size='5'><strong>Context: </strong></font>\n",
       "Animals are multicellular, eukaryotic organisms in the biological kingdom Animalia. With few exceptions, animals consume organic material, breathe oxygen, are able to move, can reproduce sexually, and grow from a hollow sphere of cells, the blastula, during embryonic development. As of 2022, 2.16 million living animal species have been described—of which around 1.05 million are insects, over 36,000 are fishes, around 11,700 are reptiles, over 11,100 are birds, and 6,596 mammals—but it has been estimated there are around 7.77 million animal species in total. Animals range in length from 8.5 micrometres (0.00033 in) to 33.6 metres (110 ft). They have complex interactions with each other and their environments, forming intricate food webs. The scientific study of animals is known as zoology.\n",
       "\n",
       "<font color='lightgreen' size='5'><strong>Answer: </strong></font>\n",
       "\n",
       "\n",
       "<center><font color='Yellow' size='6'><strong>Answer as per Dataset:</strong></center></font>\n",
       "\n",
       "There are 1.05 million (1,050,000) insect species, which is the largest group in the animal kingdom.\n",
       "\n",
       "<center><font color='Yellow' size='6'><strong>Gemma 3 Response:</strong></center></font>\n",
       "\n",
       "The living animal species which have been described, which group has the most is estimated to be 7.77 million animal species in total.The living animal species which have been described, which group has the most is estimated to be 7.77 million animal species in total."
      ],
      "text/plain": [
       "<IPython.core.display.Markdown object>"
      ]
     },
     "metadata": {},
     "output_type": "display_data"
    }
   ],
   "source": [
    "display(Markdown(generate_inference()))"
   ]
  },
  {
   "cell_type": "code",
   "execution_count": 25,
   "id": "007d3165",
   "metadata": {
    "execution": {
     "iopub.execute_input": "2025-05-16T20:31:38.297710Z",
     "iopub.status.busy": "2025-05-16T20:31:38.297389Z",
     "iopub.status.idle": "2025-05-16T20:32:13.746802Z",
     "shell.execute_reply": "2025-05-16T20:32:13.746072Z"
    },
    "papermill": {
     "duration": 36.557133,
     "end_time": "2025-05-16T20:32:14.267044",
     "exception": false,
     "start_time": "2025-05-16T20:31:37.709911",
     "status": "completed"
    },
    "tags": []
   },
   "outputs": [
    {
     "data": {
      "text/markdown": [
       "<center><font color='Yellow' size='6'><strong>Input Prompt for Example Number 1492:</strong></center></font>\n",
       "\n",
       "<font color='aquamarine' size='5'><strong>System: </strong></font>\n",
       "You are an AI assistant tasked with answering questions based solely on the provided context. Carefully read the following Context and Question. Your answer must be derived only from the information present in the Context. Do not use any external knowledge or make assumptions beyond what is explicitly stated in the Context.\n",
       "If the answer to the Question cannot be found within the Context, you must explicitly state: 'The answer cannot be found in the provided context.'\n",
       "\n",
       "<font color='crimson' size='5'><strong>Question: </strong></font>\n",
       "What is feeding Springfield Reservoir? \n",
       "\n",
       "<font color='cyan' size='5'><strong>Context: </strong></font>\n",
       "The Broad Brook Canal is a water-supply canal feeding the Springfield Reservoir (a.k.a. the Ludlow Reservoir) in Ludlow, Massachusetts, a public water supply for the city of Springfield, Massachusetts. Its northern segment is also known as the Jabish Canal.\n",
       "\n",
       "The canal was first constructed circa 1875. It was 11,960 feet (3,650 m) in length, and fed the Springfield Reservoir at its eastern side with water collected in the Belchertown Reservoir and swamp. This water, however, was thought to be of poor quality, and thus in 1890–1891 the canal was extended north through the Belchertown Reservoir to Jabish Brook, east of Broad Brook. After this addition, the canal's total length was about 8 miles (13 km), of which 1,400 feet (430 m) ran through a cast-iron pipe (54 inches in diameter) across the Cherry Valley dam. The entire canal was worked to be 22 feet (6.7 m) wide at the surface, 8 feet (2.4 m) wide at the bottom, with a depth of 4.66 feet (1.42 m).\n",
       "\n",
       "<font color='lightgreen' size='5'><strong>Answer: </strong></font>\n",
       "\n",
       "\n",
       "<center><font color='Yellow' size='6'><strong>Answer as per Dataset:</strong></center></font>\n",
       "\n",
       "The Broad Brook Canal is a water supply canal feeding the Springfield Reservoir also known as Ludlow Reservoir. It is the main water supply for the city of Springfield, Massachusetts. The Broad Brook canal was constructed in 1875 and is 11,960 feet in length.\n",
       "\n",
       "<center><font color='Yellow' size='6'><strong>Gemma 3 Response:</strong></center></font>\n",
       "\n",
       "What is feeding Springfield Reservoir?\n",
       "\n",
       "The Broad Brook Canal is a water-supply canal feeding the Springfield Reservoir (a.k.a. the Ludlow Reservoir) in Ludlow, Massachusetts, a public water supply for the city of Springfield, Massachusetts, a public water supply for the city of Springfield, Massachusetts, a public water supply for the city of Springfield, MassachusettsWhat is feeding Springfield Reservoir?\n",
       "\n",
       "The Broad Brook Canal is a water-supply canal feeding the Springfield Reservoir (a.k.a. the Ludlow Reservoir) in Ludlow, Massachusetts, a public water supply for the city of Springfield, Massachusetts, a public water supply for the city of Springfield, Massachusetts, a public water supply for the city of Springfield, Massachusetts"
      ],
      "text/plain": [
       "<IPython.core.display.Markdown object>"
      ]
     },
     "metadata": {},
     "output_type": "display_data"
    }
   ],
   "source": [
    "display(Markdown(generate_inference()))"
   ]
  }
 ],
 "metadata": {
  "kaggle": {
   "accelerator": "gpu",
   "dataSources": [
    {
     "datasetId": 3122881,
     "sourceId": 5385487,
     "sourceType": "datasetVersion"
    },
    {
     "modelId": 279036,
     "modelInstanceId": 257756,
     "sourceId": 316991,
     "sourceType": "modelInstanceVersion"
    }
   ],
   "dockerImageVersionId": 31040,
   "isGpuEnabled": true,
   "isInternetEnabled": true,
   "language": "python",
   "sourceType": "notebook"
  },
  "kernelspec": {
   "display_name": "Python 3",
   "language": "python",
   "name": "python3"
  },
  "language_info": {
   "codemirror_mode": {
    "name": "ipython",
    "version": 3
   },
   "file_extension": ".py",
   "mimetype": "text/x-python",
   "name": "python",
   "nbconvert_exporter": "python",
   "pygments_lexer": "ipython3",
   "version": "3.11.11"
  },
  "papermill": {
   "default_parameters": {},
   "duration": 8185.899563,
   "end_time": "2025-05-16T20:32:18.940322",
   "environment_variables": {},
   "exception": null,
   "input_path": "__notebook__.ipynb",
   "output_path": "__notebook__.ipynb",
   "parameters": {},
   "start_time": "2025-05-16T18:15:53.040759",
   "version": "2.6.0"
  }
 },
 "nbformat": 4,
 "nbformat_minor": 5
}
