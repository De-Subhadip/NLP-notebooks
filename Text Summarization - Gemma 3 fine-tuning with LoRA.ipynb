{
 "cells": [
  {
   "cell_type": "markdown",
   "id": "48b6493b",
   "metadata": {
    "papermill": {
     "duration": 0.005865,
     "end_time": "2025-05-15T17:20:40.740749",
     "exception": false,
     "start_time": "2025-05-15T17:20:40.734884",
     "status": "completed"
    },
    "tags": []
   },
   "source": [
    "# Installing/Updating Necessary Libraries:"
   ]
  },
  {
   "cell_type": "code",
   "execution_count": 1,
   "id": "888e5735",
   "metadata": {
    "execution": {
     "iopub.execute_input": "2025-05-15T17:20:40.751542Z",
     "iopub.status.busy": "2025-05-15T17:20:40.751294Z",
     "iopub.status.idle": "2025-05-15T17:20:51.384579Z",
     "shell.execute_reply": "2025-05-15T17:20:51.383714Z"
    },
    "papermill": {
     "duration": 10.640253,
     "end_time": "2025-05-15T17:20:51.386050",
     "exception": false,
     "start_time": "2025-05-15T17:20:40.745797",
     "status": "completed"
    },
    "tags": []
   },
   "outputs": [
    {
     "name": "stdout",
     "output_type": "stream",
     "text": [
      "\u001b[2K   \u001b[90m━━━━━━━━━━━━━━━━━━━━━━━━━━━━━━━━━━━━━━━━\u001b[0m \u001b[32m792.1/792.1 kB\u001b[0m \u001b[31m16.4 MB/s\u001b[0m eta \u001b[36m0:00:00\u001b[0m\r\n",
      "\u001b[?25h"
     ]
    }
   ],
   "source": [
    "!pip install -q -U keras-nlp\n",
    "!pip install -q -U keras>=3"
   ]
  },
  {
   "cell_type": "markdown",
   "id": "13a26148",
   "metadata": {
    "papermill": {
     "duration": 0.004723,
     "end_time": "2025-05-15T17:20:51.396110",
     "exception": false,
     "start_time": "2025-05-15T17:20:51.391387",
     "status": "completed"
    },
    "tags": []
   },
   "source": [
    "# Importing Necessary Libraries:"
   ]
  },
  {
   "cell_type": "code",
   "execution_count": 2,
   "id": "a25bc41a",
   "metadata": {
    "execution": {
     "iopub.execute_input": "2025-05-15T17:20:51.407332Z",
     "iopub.status.busy": "2025-05-15T17:20:51.406686Z",
     "iopub.status.idle": "2025-05-15T17:21:07.218795Z",
     "shell.execute_reply": "2025-05-15T17:21:07.218028Z"
    },
    "papermill": {
     "duration": 15.819294,
     "end_time": "2025-05-15T17:21:07.220332",
     "exception": false,
     "start_time": "2025-05-15T17:20:51.401038",
     "status": "completed"
    },
    "tags": []
   },
   "outputs": [
    {
     "name": "stderr",
     "output_type": "stream",
     "text": [
      "2025-05-15 17:20:53.109422: E external/local_xla/xla/stream_executor/cuda/cuda_fft.cc:477] Unable to register cuFFT factory: Attempting to register factory for plugin cuFFT when one has already been registered\n",
      "WARNING: All log messages before absl::InitializeLog() is called are written to STDERR\n",
      "E0000 00:00:1747329653.310255      19 cuda_dnn.cc:8310] Unable to register cuDNN factory: Attempting to register factory for plugin cuDNN when one has already been registered\n",
      "E0000 00:00:1747329653.367856      19 cuda_blas.cc:1418] Unable to register cuBLAS factory: Attempting to register factory for plugin cuBLAS when one has already been registered\n"
     ]
    }
   ],
   "source": [
    "import os\n",
    "import keras\n",
    "import random\n",
    "import warnings\n",
    "import keras_nlp\n",
    "import numpy as np\n",
    "import pandas as pd\n",
    "import seaborn as sns\n",
    "import tensorflow as tf\n",
    "import matplotlib.pyplot as plt\n",
    "from IPython.display import display, Markdown"
   ]
  },
  {
   "cell_type": "code",
   "execution_count": 3,
   "id": "562d4e91",
   "metadata": {
    "execution": {
     "iopub.execute_input": "2025-05-15T17:21:07.231553Z",
     "iopub.status.busy": "2025-05-15T17:21:07.231170Z",
     "iopub.status.idle": "2025-05-15T17:21:07.234388Z",
     "shell.execute_reply": "2025-05-15T17:21:07.233893Z"
    },
    "papermill": {
     "duration": 0.009717,
     "end_time": "2025-05-15T17:21:07.235377",
     "exception": false,
     "start_time": "2025-05-15T17:21:07.225660",
     "status": "completed"
    },
    "tags": []
   },
   "outputs": [],
   "source": [
    "warnings.filterwarnings(\"ignore\")"
   ]
  },
  {
   "cell_type": "markdown",
   "id": "05ec1baa",
   "metadata": {
    "papermill": {
     "duration": 0.004827,
     "end_time": "2025-05-15T17:21:07.245389",
     "exception": false,
     "start_time": "2025-05-15T17:21:07.240562",
     "status": "completed"
    },
    "tags": []
   },
   "source": [
    "# Setting Up Keras Backend:"
   ]
  },
  {
   "cell_type": "code",
   "execution_count": 4,
   "id": "e4fc5e53",
   "metadata": {
    "execution": {
     "iopub.execute_input": "2025-05-15T17:21:07.255831Z",
     "iopub.status.busy": "2025-05-15T17:21:07.255593Z",
     "iopub.status.idle": "2025-05-15T17:21:07.258636Z",
     "shell.execute_reply": "2025-05-15T17:21:07.258185Z"
    },
    "papermill": {
     "duration": 0.009322,
     "end_time": "2025-05-15T17:21:07.259616",
     "exception": false,
     "start_time": "2025-05-15T17:21:07.250294",
     "status": "completed"
    },
    "tags": []
   },
   "outputs": [],
   "source": [
    "os.environ[\"KERAS_BACKEND\"] = \"jax\"\n",
    "os.environ[\"XLA_PYTHON_CLIENT_MEM_FRACTION\"] = \"1\"\n",
    "os.environ[\"JAX_PLATFORMS\"] = \"\""
   ]
  },
  {
   "cell_type": "markdown",
   "id": "bef48df1",
   "metadata": {
    "papermill": {
     "duration": 0.004611,
     "end_time": "2025-05-15T17:21:07.269122",
     "exception": false,
     "start_time": "2025-05-15T17:21:07.264511",
     "status": "completed"
    },
    "tags": []
   },
   "source": [
    "# Reading the Datasets:"
   ]
  },
  {
   "cell_type": "code",
   "execution_count": 5,
   "id": "9aee2325",
   "metadata": {
    "execution": {
     "iopub.execute_input": "2025-05-15T17:21:07.279879Z",
     "iopub.status.busy": "2025-05-15T17:21:07.279659Z",
     "iopub.status.idle": "2025-05-15T17:21:07.282761Z",
     "shell.execute_reply": "2025-05-15T17:21:07.282257Z"
    },
    "papermill": {
     "duration": 0.00987,
     "end_time": "2025-05-15T17:21:07.283795",
     "exception": false,
     "start_time": "2025-05-15T17:21:07.273925",
     "status": "completed"
    },
    "tags": []
   },
   "outputs": [],
   "source": [
    "train_dir = '/kaggle/input/newspaper-text-summarization-cnn-dailymail/cnn_dailymail/train.csv'\n",
    "valid_dir = '/kaggle/input/newspaper-text-summarization-cnn-dailymail/cnn_dailymail/validation.csv'\n",
    "test_dir = '/kaggle/input/newspaper-text-summarization-cnn-dailymail/cnn_dailymail/test.csv'"
   ]
  },
  {
   "cell_type": "code",
   "execution_count": 6,
   "id": "102e03b6",
   "metadata": {
    "execution": {
     "iopub.execute_input": "2025-05-15T17:21:07.294058Z",
     "iopub.status.busy": "2025-05-15T17:21:07.293857Z",
     "iopub.status.idle": "2025-05-15T17:21:07.297297Z",
     "shell.execute_reply": "2025-05-15T17:21:07.296806Z"
    },
    "papermill": {
     "duration": 0.009608,
     "end_time": "2025-05-15T17:21:07.298243",
     "exception": false,
     "start_time": "2025-05-15T17:21:07.288635",
     "status": "completed"
    },
    "tags": []
   },
   "outputs": [],
   "source": [
    "def read_dataset(dataset_path):\n",
    "    dataset = pd.read_csv(dataset_path)\n",
    "    dataset.drop(['id'], axis=1, inplace=True)\n",
    "    dataset.rename(columns = {\"article\":\"news\", \"highlights\":\"summary\"}, inplace=True)\n",
    "    return dataset"
   ]
  },
  {
   "cell_type": "code",
   "execution_count": 7,
   "id": "244b059d",
   "metadata": {
    "execution": {
     "iopub.execute_input": "2025-05-15T17:21:07.308676Z",
     "iopub.status.busy": "2025-05-15T17:21:07.308488Z",
     "iopub.status.idle": "2025-05-15T17:21:33.316291Z",
     "shell.execute_reply": "2025-05-15T17:21:33.315655Z"
    },
    "papermill": {
     "duration": 26.014339,
     "end_time": "2025-05-15T17:21:33.317458",
     "exception": false,
     "start_time": "2025-05-15T17:21:07.303119",
     "status": "completed"
    },
    "tags": []
   },
   "outputs": [
    {
     "data": {
      "text/html": [
       "<div>\n",
       "<style scoped>\n",
       "    .dataframe tbody tr th:only-of-type {\n",
       "        vertical-align: middle;\n",
       "    }\n",
       "\n",
       "    .dataframe tbody tr th {\n",
       "        vertical-align: top;\n",
       "    }\n",
       "\n",
       "    .dataframe thead th {\n",
       "        text-align: right;\n",
       "    }\n",
       "</style>\n",
       "<table border=\"1\" class=\"dataframe\">\n",
       "  <thead>\n",
       "    <tr style=\"text-align: right;\">\n",
       "      <th></th>\n",
       "      <th>news</th>\n",
       "      <th>summary</th>\n",
       "    </tr>\n",
       "  </thead>\n",
       "  <tbody>\n",
       "    <tr>\n",
       "      <th>0</th>\n",
       "      <td>By . Associated Press . PUBLISHED: . 14:11 EST...</td>\n",
       "      <td>Bishop John Folda, of North Dakota, is taking ...</td>\n",
       "    </tr>\n",
       "    <tr>\n",
       "      <th>1</th>\n",
       "      <td>(CNN) -- Ralph Mata was an internal affairs li...</td>\n",
       "      <td>Criminal complaint: Cop used his role to help ...</td>\n",
       "    </tr>\n",
       "    <tr>\n",
       "      <th>2</th>\n",
       "      <td>A drunk driver who killed a young woman in a h...</td>\n",
       "      <td>Craig Eccleston-Todd, 27, had drunk at least t...</td>\n",
       "    </tr>\n",
       "    <tr>\n",
       "      <th>3</th>\n",
       "      <td>(CNN) -- With a breezy sweep of his pen Presid...</td>\n",
       "      <td>Nina dos Santos says Europe must be ready to a...</td>\n",
       "    </tr>\n",
       "    <tr>\n",
       "      <th>4</th>\n",
       "      <td>Fleetwood are the only team still to have a 10...</td>\n",
       "      <td>Fleetwood top of League One after 2-0 win at S...</td>\n",
       "    </tr>\n",
       "  </tbody>\n",
       "</table>\n",
       "</div>"
      ],
      "text/plain": [
       "                                                news  \\\n",
       "0  By . Associated Press . PUBLISHED: . 14:11 EST...   \n",
       "1  (CNN) -- Ralph Mata was an internal affairs li...   \n",
       "2  A drunk driver who killed a young woman in a h...   \n",
       "3  (CNN) -- With a breezy sweep of his pen Presid...   \n",
       "4  Fleetwood are the only team still to have a 10...   \n",
       "\n",
       "                                             summary  \n",
       "0  Bishop John Folda, of North Dakota, is taking ...  \n",
       "1  Criminal complaint: Cop used his role to help ...  \n",
       "2  Craig Eccleston-Todd, 27, had drunk at least t...  \n",
       "3  Nina dos Santos says Europe must be ready to a...  \n",
       "4  Fleetwood top of League One after 2-0 win at S...  "
      ]
     },
     "execution_count": 7,
     "metadata": {},
     "output_type": "execute_result"
    }
   ],
   "source": [
    "train_dataset = read_dataset(train_dir)\n",
    "train_dataset.head()"
   ]
  },
  {
   "cell_type": "code",
   "execution_count": 8,
   "id": "52bdc0da",
   "metadata": {
    "execution": {
     "iopub.execute_input": "2025-05-15T17:21:33.329150Z",
     "iopub.status.busy": "2025-05-15T17:21:33.328478Z",
     "iopub.status.idle": "2025-05-15T17:21:34.487180Z",
     "shell.execute_reply": "2025-05-15T17:21:34.486435Z"
    },
    "papermill": {
     "duration": 1.165706,
     "end_time": "2025-05-15T17:21:34.488515",
     "exception": false,
     "start_time": "2025-05-15T17:21:33.322809",
     "status": "completed"
    },
    "tags": []
   },
   "outputs": [
    {
     "data": {
      "text/html": [
       "<div>\n",
       "<style scoped>\n",
       "    .dataframe tbody tr th:only-of-type {\n",
       "        vertical-align: middle;\n",
       "    }\n",
       "\n",
       "    .dataframe tbody tr th {\n",
       "        vertical-align: top;\n",
       "    }\n",
       "\n",
       "    .dataframe thead th {\n",
       "        text-align: right;\n",
       "    }\n",
       "</style>\n",
       "<table border=\"1\" class=\"dataframe\">\n",
       "  <thead>\n",
       "    <tr style=\"text-align: right;\">\n",
       "      <th></th>\n",
       "      <th>news</th>\n",
       "      <th>summary</th>\n",
       "    </tr>\n",
       "  </thead>\n",
       "  <tbody>\n",
       "    <tr>\n",
       "      <th>0</th>\n",
       "      <td>Sally Forrest, an actress-dancer who graced th...</td>\n",
       "      <td>Sally Forrest, an actress-dancer who graced th...</td>\n",
       "    </tr>\n",
       "    <tr>\n",
       "      <th>1</th>\n",
       "      <td>A middle-school teacher in China has inked hun...</td>\n",
       "      <td>Works include pictures of Presidential Palace ...</td>\n",
       "    </tr>\n",
       "    <tr>\n",
       "      <th>2</th>\n",
       "      <td>A man convicted of killing the father and sist...</td>\n",
       "      <td>Iftekhar Murtaza, 29, was convicted a year ago...</td>\n",
       "    </tr>\n",
       "    <tr>\n",
       "      <th>3</th>\n",
       "      <td>Avid rugby fan Prince Harry could barely watch...</td>\n",
       "      <td>Prince Harry in attendance for England's crunc...</td>\n",
       "    </tr>\n",
       "    <tr>\n",
       "      <th>4</th>\n",
       "      <td>A Triple M Radio producer has been inundated w...</td>\n",
       "      <td>Nick Slater's colleagues uploaded a picture to...</td>\n",
       "    </tr>\n",
       "  </tbody>\n",
       "</table>\n",
       "</div>"
      ],
      "text/plain": [
       "                                                news  \\\n",
       "0  Sally Forrest, an actress-dancer who graced th...   \n",
       "1  A middle-school teacher in China has inked hun...   \n",
       "2  A man convicted of killing the father and sist...   \n",
       "3  Avid rugby fan Prince Harry could barely watch...   \n",
       "4  A Triple M Radio producer has been inundated w...   \n",
       "\n",
       "                                             summary  \n",
       "0  Sally Forrest, an actress-dancer who graced th...  \n",
       "1  Works include pictures of Presidential Palace ...  \n",
       "2  Iftekhar Murtaza, 29, was convicted a year ago...  \n",
       "3  Prince Harry in attendance for England's crunc...  \n",
       "4  Nick Slater's colleagues uploaded a picture to...  "
      ]
     },
     "execution_count": 8,
     "metadata": {},
     "output_type": "execute_result"
    }
   ],
   "source": [
    "valid_dataset = read_dataset(valid_dir)\n",
    "valid_dataset.head()"
   ]
  },
  {
   "cell_type": "code",
   "execution_count": 9,
   "id": "22fa5b6d",
   "metadata": {
    "execution": {
     "iopub.execute_input": "2025-05-15T17:21:34.500457Z",
     "iopub.status.busy": "2025-05-15T17:21:34.500223Z",
     "iopub.status.idle": "2025-05-15T17:21:35.524574Z",
     "shell.execute_reply": "2025-05-15T17:21:35.523921Z"
    },
    "papermill": {
     "duration": 1.031671,
     "end_time": "2025-05-15T17:21:35.525801",
     "exception": false,
     "start_time": "2025-05-15T17:21:34.494130",
     "status": "completed"
    },
    "tags": []
   },
   "outputs": [
    {
     "data": {
      "text/html": [
       "<div>\n",
       "<style scoped>\n",
       "    .dataframe tbody tr th:only-of-type {\n",
       "        vertical-align: middle;\n",
       "    }\n",
       "\n",
       "    .dataframe tbody tr th {\n",
       "        vertical-align: top;\n",
       "    }\n",
       "\n",
       "    .dataframe thead th {\n",
       "        text-align: right;\n",
       "    }\n",
       "</style>\n",
       "<table border=\"1\" class=\"dataframe\">\n",
       "  <thead>\n",
       "    <tr style=\"text-align: right;\">\n",
       "      <th></th>\n",
       "      <th>news</th>\n",
       "      <th>summary</th>\n",
       "    </tr>\n",
       "  </thead>\n",
       "  <tbody>\n",
       "    <tr>\n",
       "      <th>0</th>\n",
       "      <td>Ever noticed how plane seats appear to be gett...</td>\n",
       "      <td>Experts question if  packed out planes are put...</td>\n",
       "    </tr>\n",
       "    <tr>\n",
       "      <th>1</th>\n",
       "      <td>A drunk teenage boy had to be rescued by secur...</td>\n",
       "      <td>Drunk teenage boy climbed into lion enclosure ...</td>\n",
       "    </tr>\n",
       "    <tr>\n",
       "      <th>2</th>\n",
       "      <td>Dougie Freedman is on the verge of agreeing a ...</td>\n",
       "      <td>Nottingham Forest are close to extending Dougi...</td>\n",
       "    </tr>\n",
       "    <tr>\n",
       "      <th>3</th>\n",
       "      <td>Liverpool target Neto is also wanted by PSG an...</td>\n",
       "      <td>Fiorentina goalkeeper Neto has been linked wit...</td>\n",
       "    </tr>\n",
       "    <tr>\n",
       "      <th>4</th>\n",
       "      <td>Bruce Jenner will break his silence in a two-h...</td>\n",
       "      <td>Tell-all interview with the reality TV star, 6...</td>\n",
       "    </tr>\n",
       "  </tbody>\n",
       "</table>\n",
       "</div>"
      ],
      "text/plain": [
       "                                                news  \\\n",
       "0  Ever noticed how plane seats appear to be gett...   \n",
       "1  A drunk teenage boy had to be rescued by secur...   \n",
       "2  Dougie Freedman is on the verge of agreeing a ...   \n",
       "3  Liverpool target Neto is also wanted by PSG an...   \n",
       "4  Bruce Jenner will break his silence in a two-h...   \n",
       "\n",
       "                                             summary  \n",
       "0  Experts question if  packed out planes are put...  \n",
       "1  Drunk teenage boy climbed into lion enclosure ...  \n",
       "2  Nottingham Forest are close to extending Dougi...  \n",
       "3  Fiorentina goalkeeper Neto has been linked wit...  \n",
       "4  Tell-all interview with the reality TV star, 6...  "
      ]
     },
     "execution_count": 9,
     "metadata": {},
     "output_type": "execute_result"
    }
   ],
   "source": [
    "test_dataset = read_dataset(test_dir)\n",
    "test_dataset.head()"
   ]
  },
  {
   "cell_type": "markdown",
   "id": "2bee0546",
   "metadata": {
    "papermill": {
     "duration": 0.00497,
     "end_time": "2025-05-15T17:21:35.536251",
     "exception": false,
     "start_time": "2025-05-15T17:21:35.531281",
     "status": "completed"
    },
    "tags": []
   },
   "source": [
    "# Exploratory Data Analysis:"
   ]
  },
  {
   "cell_type": "code",
   "execution_count": 10,
   "id": "a66feed9",
   "metadata": {
    "execution": {
     "iopub.execute_input": "2025-05-15T17:21:35.547304Z",
     "iopub.status.busy": "2025-05-15T17:21:35.547088Z",
     "iopub.status.idle": "2025-05-15T17:21:35.551433Z",
     "shell.execute_reply": "2025-05-15T17:21:35.550833Z"
    },
    "papermill": {
     "duration": 0.011112,
     "end_time": "2025-05-15T17:21:35.552456",
     "exception": false,
     "start_time": "2025-05-15T17:21:35.541344",
     "status": "completed"
    },
    "tags": []
   },
   "outputs": [],
   "source": [
    "def plot(column, nbins=100):\n",
    "    \"\"\"\n",
    "    Given a column name, this function will plot the distribution of the lengths of the text in the specified column across all three datasets.\n",
    "    \"\"\"\n",
    "    \n",
    "    df = pd.concat([train_dataset, valid_dataset, test_dataset])\n",
    "    df['length'] = df[column].apply(lambda x: len(x.split()))\n",
    "    plt.figure(figsize=(12, 5), dpi=200)\n",
    "    plt.title(f\"Distribution of {column} lengths\")\n",
    "    sns.histplot(data=df, x='length', kde=True, bins=nbins)\n",
    "    return"
   ]
  },
  {
   "cell_type": "code",
   "execution_count": 11,
   "id": "7fa2f90d",
   "metadata": {
    "execution": {
     "iopub.execute_input": "2025-05-15T17:21:35.563587Z",
     "iopub.status.busy": "2025-05-15T17:21:35.563379Z",
     "iopub.status.idle": "2025-05-15T17:21:48.071376Z",
     "shell.execute_reply": "2025-05-15T17:21:48.070638Z"
    },
    "papermill": {
     "duration": 12.515318,
     "end_time": "2025-05-15T17:21:48.072936",
     "exception": false,
     "start_time": "2025-05-15T17:21:35.557618",
     "status": "completed"
    },
    "tags": []
   },
   "outputs": [
    {
     "data": {
      "image/png": "[encoded data removed]",
      "text/plain": [
       "<Figure size 2400x1000 with 1 Axes>"
      ]
     },
     "metadata": {},
     "output_type": "display_data"
    }
   ],
   "source": [
    "plot('news')"
   ]
  },
  {
   "cell_type": "code",
   "execution_count": 12,
   "id": "a2dd1fee",
   "metadata": {
    "execution": {
     "iopub.execute_input": "2025-05-15T17:21:48.087472Z",
     "iopub.status.busy": "2025-05-15T17:21:48.087093Z",
     "iopub.status.idle": "2025-05-15T17:21:50.535057Z",
     "shell.execute_reply": "2025-05-15T17:21:50.534240Z"
    },
    "papermill": {
     "duration": 2.456179,
     "end_time": "2025-05-15T17:21:50.536195",
     "exception": false,
     "start_time": "2025-05-15T17:21:48.080016",
     "status": "completed"
    },
    "tags": []
   },
   "outputs": [
    {
     "data": {
      "image/png": "[encoded data removed]",
      "text/plain": [
       "<Figure size 2400x1000 with 1 Axes>"
      ]
     },
     "metadata": {},
     "output_type": "display_data"
    }
   ],
   "source": [
    "plot('summary')"
   ]
  },
  {
   "cell_type": "markdown",
   "id": "47c98fdd",
   "metadata": {
    "papermill": {
     "duration": 0.007257,
     "end_time": "2025-05-15T17:21:50.551439",
     "exception": false,
     "start_time": "2025-05-15T17:21:50.544182",
     "status": "completed"
    },
    "tags": []
   },
   "source": [
    "# Prompt Template for News Summarization:"
   ]
  },
  {
   "cell_type": "code",
   "execution_count": 13,
   "id": "4872ed84",
   "metadata": {
    "execution": {
     "iopub.execute_input": "2025-05-15T17:21:50.567010Z",
     "iopub.status.busy": "2025-05-15T17:21:50.566734Z",
     "iopub.status.idle": "2025-05-15T17:21:50.570070Z",
     "shell.execute_reply": "2025-05-15T17:21:50.569511Z"
    },
    "papermill": {
     "duration": 0.012324,
     "end_time": "2025-05-15T17:21:50.571130",
     "exception": false,
     "start_time": "2025-05-15T17:21:50.558806",
     "status": "completed"
    },
    "tags": []
   },
   "outputs": [],
   "source": [
    "template = \"\"\"Role:\n",
    "\n",
    "You are a highly advanced language model designed to summarize news articles concisely and accurately. Your task is to summarise news articles such that it captures the main points, key details, and overall context. The summary should be clear, coherent, and should highlight the most important aspects of the news article.\n",
    "\n",
    "\n",
    "Instructions:\n",
    "1. Carefully read the news article given in the 'News' section.\n",
    "2. In the 'Summary' section, provide a summary of the news article highlighting the main points, key details, and overall context.\n",
    "\n",
    "**NOTE:** Only output the summary without any other additional texts.\n",
    "\n",
    "\n",
    "News:\n",
    "\n",
    "{news}\n",
    "\n",
    "\n",
    "Summary: \\n\\n\n",
    "\"\"\""
   ]
  },
  {
   "cell_type": "markdown",
   "id": "3a03a9ae",
   "metadata": {
    "papermill": {
     "duration": 0.007196,
     "end_time": "2025-05-15T17:21:50.585819",
     "exception": false,
     "start_time": "2025-05-15T17:21:50.578623",
     "status": "completed"
    },
    "tags": []
   },
   "source": [
    "# Function for Coloring and Formatting Text:"
   ]
  },
  {
   "cell_type": "code",
   "execution_count": 14,
   "id": "e7c507f3",
   "metadata": {
    "execution": {
     "iopub.execute_input": "2025-05-15T17:21:50.601397Z",
     "iopub.status.busy": "2025-05-15T17:21:50.601175Z",
     "iopub.status.idle": "2025-05-15T17:21:50.605071Z",
     "shell.execute_reply": "2025-05-15T17:21:50.604399Z"
    },
    "papermill": {
     "duration": 0.013004,
     "end_time": "2025-05-15T17:21:50.606221",
     "exception": false,
     "start_time": "2025-05-15T17:21:50.593217",
     "status": "completed"
    },
    "tags": []
   },
   "outputs": [],
   "source": [
    "def colorize_text(text):\n",
    "    for word, color in zip([\"Role\", \"Instructions\", \"News\", \"Summary\"],\n",
    "                           [\"green\", \"yellow\", \"red\", \"cyan\"]):\n",
    "        text = text.replace(f\"{word}:\", f\"\\n\\n**<font color='{color}' size=4>{word}:</font>**\")\n",
    "    return text"
   ]
  },
  {
   "cell_type": "code",
   "execution_count": 15,
   "id": "5a2726d3",
   "metadata": {
    "execution": {
     "iopub.execute_input": "2025-05-15T17:21:50.622188Z",
     "iopub.status.busy": "2025-05-15T17:21:50.621973Z",
     "iopub.status.idle": "2025-05-15T17:21:50.627359Z",
     "shell.execute_reply": "2025-05-15T17:21:50.626562Z"
    },
    "papermill": {
     "duration": 0.014594,
     "end_time": "2025-05-15T17:21:50.628493",
     "exception": false,
     "start_time": "2025-05-15T17:21:50.613899",
     "status": "completed"
    },
    "tags": []
   },
   "outputs": [
    {
     "data": {
      "text/markdown": [
       "\n",
       "\n",
       "**<font color='green' size=4>Role:</font>**\n",
       "\n",
       "You are a highly advanced language model designed to summarize news articles concisely and accurately. Your task is to summarise news articles such that it captures the main points, key details, and overall context. The summary should be clear, coherent, and should highlight the most important aspects of the news article.\n",
       "\n",
       "\n",
       "\n",
       "\n",
       "**<font color='yellow' size=4>Instructions:</font>**\n",
       "1. Carefully read the news article given in the 'News' section.\n",
       "2. In the 'Summary' section, provide a summary of the news article highlighting the main points, key details, and overall context.\n",
       "\n",
       "**NOTE:** Only output the summary without any other additional texts.\n",
       "\n",
       "\n",
       "\n",
       "\n",
       "**<font color='red' size=4>News:</font>**\n",
       "\n",
       "By . Anthony Bond . Last updated at 10:15 AM on 2nd March 2012 . A heartbroken mother gave birth just five hours after the funeral of her baby's father. Grieving Kelly Jones, 26, went into labour at the graveside of her fiancé killed in a car crash just days earlier. Miss Jones was eight months pregnant when her childhood sweetheart Ricky Norman, 27, died in the country road accident. Tragic: Grieving Kelly Jones went into labour at the graveside of her fiance killed in a car crash just days earlier. She is pictured here with baby Ava . She was determined to go to his funeral - but her midwife insisted on being at her side. Miss Jones managed to get through the service but strong labour pains began as she knelt to lay roses on Mr Norman's grave. She was rushed to hospital from the cemetery - and gave birth to baby Ava five hours later. Miss Jones said: 'It was a tragic day - we said goodbye to Ricky on the same day that Ava said hello to the world. 'Giving birth should have been one of the happiest days of our lives together and Ricky would have been at my side. 'My family and friends are saying Ava is Ricky's parting gift to me and that's the way I will always think of her.' One in a million: Ricky Norman was on his way to work when his car was in a head-on crash with a lorry on an icy mountain road . Mr Norman, a railway maintenance engineer, was on his way to work when his car was in a head-on crash with a lorry on an icy mountain road. He had chosen his unborn baby girl's name just the day before - Ava Rikki Leigh Norman-Jones. Miss Jones said: 'When I heard the news I was crying all day - it didn't feel real to me. 'I felt like I was dreaming and all I wanted to do was wake up from a nightmare. 'If it wasn't for me expecting Ava, I don't think I would have been able to cope.' Healthy Ava arrived three weeks early at Prince Charles Hospital in Merthyr Tydfil, South Wales, just a mile from the cemetery where her father was buried that day. Holding baby Ava close, Miss Jones said: 'It's as if it was meant to be, as if he wanted to see her there that day. 'Ricky would have loved Ava so much. I can't believe he is gone. 'He was a one-in-a-million, everything a woman would want in a man. He was kind, caring and changed my life forever.' The family will now never forget February 22 - the day Mr Norman was buried and his daughter was born. Miss Jones, of Merthyr Tydfil, said: 'I don't know how I will feel on her birthday - part of me will be celebrating for Ava, but part of me will be grieving for Ricky.' The couple have another son, one-year-old Jackson, and were planning to marry next year. Mr Norman's mother Sylvia Norman, 47, also told how her world has been 'turned upside down' following the loss of her son. She said: 'I cannot explain it myself. I had just laid my son to rest and hours later his daughter was born. 'It will never be the same without our son. We loved him dearly, he was our life. 'The children are the only thing keeping me going. We've got to be there for Ava. That's what Ricky would've wanted. 'He knew how hard it was going to be for us. That's why Ava was born on that day. It was his present to us.' Police are still investigating the crash in which Mr Norman and work colleague Robert McGovern, 35, were killed at Storey Arms in the Brecon Beacons.\n",
       "\n",
       "\n",
       "\n",
       "\n",
       "**<font color='cyan' size=4>Summary:</font>** \n",
       "\n",
       "\n",
       " \n",
       "Kelly Jones, 26, went into labour as she knelt to lay flowers at the grave of Ricky Norman, 27 .\n",
       "Mr Norman died in country road car crash .\n",
       "Baby Ava was born three weeks early ."
      ],
      "text/plain": [
       "<IPython.core.display.Markdown object>"
      ]
     },
     "metadata": {},
     "output_type": "display_data"
    }
   ],
   "source": [
    "# Visualizing a random example:\n",
    "\n",
    "row = train_dataset.loc[random.randint(0, len(train_dataset))]\n",
    "example = f\"{template.format(news=row.news)} \\n{row.summary}\"\n",
    "display(Markdown(colorize_text(example)))"
   ]
  },
  {
   "cell_type": "markdown",
   "id": "b29943e6",
   "metadata": {
    "papermill": {
     "duration": 0.007368,
     "end_time": "2025-05-15T17:21:50.643555",
     "exception": false,
     "start_time": "2025-05-15T17:21:50.636187",
     "status": "completed"
    },
    "tags": []
   },
   "source": [
    "# Loading the Gemma 3 Model with 1 Billion Parameters:"
   ]
  },
  {
   "cell_type": "code",
   "execution_count": 16,
   "id": "0356206b",
   "metadata": {
    "execution": {
     "iopub.execute_input": "2025-05-15T17:21:50.659633Z",
     "iopub.status.busy": "2025-05-15T17:21:50.659413Z",
     "iopub.status.idle": "2025-05-15T17:22:14.843742Z",
     "shell.execute_reply": "2025-05-15T17:22:14.843009Z"
    },
    "papermill": {
     "duration": 24.193814,
     "end_time": "2025-05-15T17:22:14.845034",
     "exception": false,
     "start_time": "2025-05-15T17:21:50.651220",
     "status": "completed"
    },
    "tags": []
   },
   "outputs": [
    {
     "name": "stderr",
     "output_type": "stream",
     "text": [
      "I0000 00:00:1747329713.541950      19 gpu_device.cc:2022] Created device /job:localhost/replica:0/task:0/device:GPU:0 with 15513 MB memory:  -> device: 0, name: Tesla P100-PCIE-16GB, pci bus id: 0000:00:04.0, compute capability: 6.0\n",
      "normalizer.cc(51) LOG(INFO) precompiled_charsmap is empty. use identity normalization.\n"
     ]
    },
    {
     "data": {
      "text/html": [
       "<pre style=\"white-space:pre;overflow-x:auto;line-height:normal;font-family:Menlo,'DejaVu Sans Mono',consolas,'Courier New',monospace\"><span style=\"font-weight: bold\">Preprocessor: \"gemma3_causal_lm_preprocessor\"</span>\n",
       "</pre>\n"
      ],
      "text/plain": [
       "\u001b[1mPreprocessor: \"gemma3_causal_lm_preprocessor\"\u001b[0m\n"
      ]
     },
     "metadata": {},
     "output_type": "display_data"
    },
    {
     "data": {
      "text/html": [
       "<pre style=\"white-space:pre;overflow-x:auto;line-height:normal;font-family:Menlo,'DejaVu Sans Mono',consolas,'Courier New',monospace\">┏━━━━━━━━━━━━━━━━━━━━━━━━━━━━━━━━━━━━━━━━━━━━━━━━━━━━━━━━━━━━━━━┳━━━━━━━━━━━━━━━━━━━━━━━━━━━━━━━━━━━━━━━━━━┓\n",
       "┃<span style=\"font-weight: bold\"> Layer (type)                                                  </span>┃<span style=\"font-weight: bold\">                                   Config </span>┃\n",
       "┡━━━━━━━━━━━━━━━━━━━━━━━━━━━━━━━━━━━━━━━━━━━━━━━━━━━━━━━━━━━━━━━╇━━━━━━━━━━━━━━━━━━━━━━━━━━━━━━━━━━━━━━━━━━┩\n",
       "│ gemma3_tokenizer (<span style=\"color: #0087ff; text-decoration-color: #0087ff\">Gemma3Tokenizer</span>)                            │                      Vocab size: <span style=\"color: #00af00; text-decoration-color: #00af00\">262,144</span> │\n",
       "└───────────────────────────────────────────────────────────────┴──────────────────────────────────────────┘\n",
       "</pre>\n"
      ],
      "text/plain": [
       "┏━━━━━━━━━━━━━━━━━━━━━━━━━━━━━━━━━━━━━━━━━━━━━━━━━━━━━━━━━━━━━━━┳━━━━━━━━━━━━━━━━━━━━━━━━━━━━━━━━━━━━━━━━━━┓\n",
       "┃\u001b[1m \u001b[0m\u001b[1mLayer (type)                                                 \u001b[0m\u001b[1m \u001b[0m┃\u001b[1m \u001b[0m\u001b[1m                                  Config\u001b[0m\u001b[1m \u001b[0m┃\n",
       "┡━━━━━━━━━━━━━━━━━━━━━━━━━━━━━━━━━━━━━━━━━━━━━━━━━━━━━━━━━━━━━━━╇━━━━━━━━━━━━━━━━━━━━━━━━━━━━━━━━━━━━━━━━━━┩\n",
       "│ gemma3_tokenizer (\u001b[38;5;33mGemma3Tokenizer\u001b[0m)                            │                      Vocab size: \u001b[38;5;34m262,144\u001b[0m │\n",
       "└───────────────────────────────────────────────────────────────┴──────────────────────────────────────────┘\n"
      ]
     },
     "metadata": {},
     "output_type": "display_data"
    },
    {
     "data": {
      "text/html": [
       "<pre style=\"white-space:pre;overflow-x:auto;line-height:normal;font-family:Menlo,'DejaVu Sans Mono',consolas,'Courier New',monospace\"><span style=\"font-weight: bold\">Model: \"gemma3_causal_lm\"</span>\n",
       "</pre>\n"
      ],
      "text/plain": [
       "\u001b[1mModel: \"gemma3_causal_lm\"\u001b[0m\n"
      ]
     },
     "metadata": {},
     "output_type": "display_data"
    },
    {
     "data": {
      "text/html": [
       "<pre style=\"white-space:pre;overflow-x:auto;line-height:normal;font-family:Menlo,'DejaVu Sans Mono',consolas,'Courier New',monospace\">┏━━━━━━━━━━━━━━━━━━━━━━━━━━━━━━━┳━━━━━━━━━━━━━━━━━━━━━━━━━━━┳━━━━━━━━━━━━━━━━━┳━━━━━━━━━━━━━━━━━━━━━━━━━━━━┓\n",
       "┃<span style=\"font-weight: bold\"> Layer (type)                  </span>┃<span style=\"font-weight: bold\"> Output Shape              </span>┃<span style=\"font-weight: bold\">         Param # </span>┃<span style=\"font-weight: bold\"> Connected to               </span>┃\n",
       "┡━━━━━━━━━━━━━━━━━━━━━━━━━━━━━━━╇━━━━━━━━━━━━━━━━━━━━━━━━━━━╇━━━━━━━━━━━━━━━━━╇━━━━━━━━━━━━━━━━━━━━━━━━━━━━┩\n",
       "│ padding_mask (<span style=\"color: #0087ff; text-decoration-color: #0087ff\">InputLayer</span>)     │ (<span style=\"color: #00d7ff; text-decoration-color: #00d7ff\">None</span>, <span style=\"color: #00d7ff; text-decoration-color: #00d7ff\">None</span>)              │               <span style=\"color: #00af00; text-decoration-color: #00af00\">0</span> │ -                          │\n",
       "├───────────────────────────────┼───────────────────────────┼─────────────────┼────────────────────────────┤\n",
       "│ token_ids (<span style=\"color: #0087ff; text-decoration-color: #0087ff\">InputLayer</span>)        │ (<span style=\"color: #00d7ff; text-decoration-color: #00d7ff\">None</span>, <span style=\"color: #00d7ff; text-decoration-color: #00d7ff\">None</span>)              │               <span style=\"color: #00af00; text-decoration-color: #00af00\">0</span> │ -                          │\n",
       "├───────────────────────────────┼───────────────────────────┼─────────────────┼────────────────────────────┤\n",
       "│ gemma3_backbone               │ (<span style=\"color: #00d7ff; text-decoration-color: #00d7ff\">None</span>, <span style=\"color: #00d7ff; text-decoration-color: #00d7ff\">None</span>, <span style=\"color: #00af00; text-decoration-color: #00af00\">1152</span>)        │     <span style=\"color: #00af00; text-decoration-color: #00af00\">999,885,952</span> │ padding_mask[<span style=\"color: #00af00; text-decoration-color: #00af00\">0</span>][<span style=\"color: #00af00; text-decoration-color: #00af00\">0</span>],        │\n",
       "│ (<span style=\"color: #0087ff; text-decoration-color: #0087ff\">Gemma3Backbone</span>)              │                           │                 │ token_ids[<span style=\"color: #00af00; text-decoration-color: #00af00\">0</span>][<span style=\"color: #00af00; text-decoration-color: #00af00\">0</span>]            │\n",
       "├───────────────────────────────┼───────────────────────────┼─────────────────┼────────────────────────────┤\n",
       "│ token_embedding               │ (<span style=\"color: #00d7ff; text-decoration-color: #00d7ff\">None</span>, <span style=\"color: #00d7ff; text-decoration-color: #00d7ff\">None</span>, <span style=\"color: #00af00; text-decoration-color: #00af00\">262144</span>)      │     <span style=\"color: #00af00; text-decoration-color: #00af00\">301,989,888</span> │ gemma3_backbone[<span style=\"color: #00af00; text-decoration-color: #00af00\">0</span>][<span style=\"color: #00af00; text-decoration-color: #00af00\">0</span>]      │\n",
       "│ (<span style=\"color: #0087ff; text-decoration-color: #0087ff\">ReversibleEmbedding</span>)         │                           │                 │                            │\n",
       "└───────────────────────────────┴───────────────────────────┴─────────────────┴────────────────────────────┘\n",
       "</pre>\n"
      ],
      "text/plain": [
       "┏━━━━━━━━━━━━━━━━━━━━━━━━━━━━━━━┳━━━━━━━━━━━━━━━━━━━━━━━━━━━┳━━━━━━━━━━━━━━━━━┳━━━━━━━━━━━━━━━━━━━━━━━━━━━━┓\n",
       "┃\u001b[1m \u001b[0m\u001b[1mLayer (type)                 \u001b[0m\u001b[1m \u001b[0m┃\u001b[1m \u001b[0m\u001b[1mOutput Shape             \u001b[0m\u001b[1m \u001b[0m┃\u001b[1m \u001b[0m\u001b[1m        Param #\u001b[0m\u001b[1m \u001b[0m┃\u001b[1m \u001b[0m\u001b[1mConnected to              \u001b[0m\u001b[1m \u001b[0m┃\n",
       "┡━━━━━━━━━━━━━━━━━━━━━━━━━━━━━━━╇━━━━━━━━━━━━━━━━━━━━━━━━━━━╇━━━━━━━━━━━━━━━━━╇━━━━━━━━━━━━━━━━━━━━━━━━━━━━┩\n",
       "│ padding_mask (\u001b[38;5;33mInputLayer\u001b[0m)     │ (\u001b[38;5;45mNone\u001b[0m, \u001b[38;5;45mNone\u001b[0m)              │               \u001b[38;5;34m0\u001b[0m │ -                          │\n",
       "├───────────────────────────────┼───────────────────────────┼─────────────────┼────────────────────────────┤\n",
       "│ token_ids (\u001b[38;5;33mInputLayer\u001b[0m)        │ (\u001b[38;5;45mNone\u001b[0m, \u001b[38;5;45mNone\u001b[0m)              │               \u001b[38;5;34m0\u001b[0m │ -                          │\n",
       "├───────────────────────────────┼───────────────────────────┼─────────────────┼────────────────────────────┤\n",
       "│ gemma3_backbone               │ (\u001b[38;5;45mNone\u001b[0m, \u001b[38;5;45mNone\u001b[0m, \u001b[38;5;34m1152\u001b[0m)        │     \u001b[38;5;34m999,885,952\u001b[0m │ padding_mask[\u001b[38;5;34m0\u001b[0m][\u001b[38;5;34m0\u001b[0m],        │\n",
       "│ (\u001b[38;5;33mGemma3Backbone\u001b[0m)              │                           │                 │ token_ids[\u001b[38;5;34m0\u001b[0m][\u001b[38;5;34m0\u001b[0m]            │\n",
       "├───────────────────────────────┼───────────────────────────┼─────────────────┼────────────────────────────┤\n",
       "│ token_embedding               │ (\u001b[38;5;45mNone\u001b[0m, \u001b[38;5;45mNone\u001b[0m, \u001b[38;5;34m262144\u001b[0m)      │     \u001b[38;5;34m301,989,888\u001b[0m │ gemma3_backbone[\u001b[38;5;34m0\u001b[0m][\u001b[38;5;34m0\u001b[0m]      │\n",
       "│ (\u001b[38;5;33mReversibleEmbedding\u001b[0m)         │                           │                 │                            │\n",
       "└───────────────────────────────┴───────────────────────────┴─────────────────┴────────────────────────────┘\n"
      ]
     },
     "metadata": {},
     "output_type": "display_data"
    },
    {
     "data": {
      "text/html": [
       "<pre style=\"white-space:pre;overflow-x:auto;line-height:normal;font-family:Menlo,'DejaVu Sans Mono',consolas,'Courier New',monospace\"><span style=\"font-weight: bold\"> Total params: </span><span style=\"color: #00af00; text-decoration-color: #00af00\">999,885,952</span> (3.72 GB)\n",
       "</pre>\n"
      ],
      "text/plain": [
       "\u001b[1m Total params: \u001b[0m\u001b[38;5;34m999,885,952\u001b[0m (3.72 GB)\n"
      ]
     },
     "metadata": {},
     "output_type": "display_data"
    },
    {
     "data": {
      "text/html": [
       "<pre style=\"white-space:pre;overflow-x:auto;line-height:normal;font-family:Menlo,'DejaVu Sans Mono',consolas,'Courier New',monospace\"><span style=\"font-weight: bold\"> Trainable params: </span><span style=\"color: #00af00; text-decoration-color: #00af00\">999,885,952</span> (3.72 GB)\n",
       "</pre>\n"
      ],
      "text/plain": [
       "\u001b[1m Trainable params: \u001b[0m\u001b[38;5;34m999,885,952\u001b[0m (3.72 GB)\n"
      ]
     },
     "metadata": {},
     "output_type": "display_data"
    },
    {
     "data": {
      "text/html": [
       "<pre style=\"white-space:pre;overflow-x:auto;line-height:normal;font-family:Menlo,'DejaVu Sans Mono',consolas,'Courier New',monospace\"><span style=\"font-weight: bold\"> Non-trainable params: </span><span style=\"color: #00af00; text-decoration-color: #00af00\">0</span> (0.00 B)\n",
       "</pre>\n"
      ],
      "text/plain": [
       "\u001b[1m Non-trainable params: \u001b[0m\u001b[38;5;34m0\u001b[0m (0.00 B)\n"
      ]
     },
     "metadata": {},
     "output_type": "display_data"
    }
   ],
   "source": [
    "gemma3_1b = keras_nlp.models.Gemma3CausalLM.from_preset(\"gemma3_1b\")\n",
    "gemma3_1b.summary()"
   ]
  },
  {
   "cell_type": "markdown",
   "id": "da7db6ba",
   "metadata": {
    "papermill": {
     "duration": 0.008183,
     "end_time": "2025-05-15T17:22:14.862293",
     "exception": false,
     "start_time": "2025-05-15T17:22:14.854110",
     "status": "completed"
    },
    "tags": []
   },
   "source": [
    "# Model Inference Before Fine-tuning:"
   ]
  },
  {
   "cell_type": "code",
   "execution_count": 17,
   "id": "b42ada51",
   "metadata": {
    "execution": {
     "iopub.execute_input": "2025-05-15T17:22:14.879772Z",
     "iopub.status.busy": "2025-05-15T17:22:14.879534Z",
     "iopub.status.idle": "2025-05-15T17:22:14.884429Z",
     "shell.execute_reply": "2025-05-15T17:22:14.883953Z"
    },
    "papermill": {
     "duration": 0.014822,
     "end_time": "2025-05-15T17:22:14.885408",
     "exception": false,
     "start_time": "2025-05-15T17:22:14.870586",
     "status": "completed"
    },
    "tags": []
   },
   "outputs": [],
   "source": [
    "def generate_inference(dataset=test_dataset, example_num=None):\n",
    "    \"\"\"\n",
    "    This function will generate the model inference, extract the summary and return the colored and formatted text.\n",
    "    \"\"\"\n",
    "    \n",
    "    if example_num == None or example_num >= len(dataset):\n",
    "        example_num = random.randint(0, len(dataset)-1)\n",
    "\n",
    "    row = dataset.loc[example_num]\n",
    "    article = row.news\n",
    "    summary = row.summary\n",
    "    prompt = template.format(news = article)\n",
    "    max_length = 2 * len(prompt.split()) # set the max output length to twice the length of the input prompt\n",
    "    response = gemma3_1b.generate(prompt, max_length = max_length)\n",
    "    response = response.split(\"Summary: \\n\\n\")[-1].strip() # Extract only the summary text\n",
    "    \n",
    "    colored_text = f\"<center><font color='Yellow' size='6'>Example {example_num}:</font></center>\\n\\n\"\n",
    "    colored_text += f\"{prompt} \\n{summary}\"\n",
    "    colored_text += f\"<center><font color='Yellow' size='6'>Gemma 3 Output:</font></center>\\n\\n\"\n",
    "    colored_text += f\"Summary: \\n\\n{response}\"\n",
    "\n",
    "    return colorize_text(colored_text)"
   ]
  },
  {
   "cell_type": "code",
   "execution_count": 18,
   "id": "2ab7badd",
   "metadata": {
    "execution": {
     "iopub.execute_input": "2025-05-15T17:22:14.949153Z",
     "iopub.status.busy": "2025-05-15T17:22:14.948886Z",
     "iopub.status.idle": "2025-05-15T17:22:54.308725Z",
     "shell.execute_reply": "2025-05-15T17:22:54.308004Z"
    },
    "papermill": {
     "duration": 39.416218,
     "end_time": "2025-05-15T17:22:54.309980",
     "exception": false,
     "start_time": "2025-05-15T17:22:14.893762",
     "status": "completed"
    },
    "tags": []
   },
   "outputs": [
    {
     "name": "stderr",
     "output_type": "stream",
     "text": [
      "WARNING: All log messages before absl::InitializeLog() is called are written to STDERR\n",
      "I0000 00:00:1747329752.730854      19 service.cc:148] XLA service 0x8d1d7800 initialized for platform CUDA (this does not guarantee that XLA will be used). Devices:\n",
      "I0000 00:00:1747329752.731724      19 service.cc:156]   StreamExecutor device (0): Tesla P100-PCIE-16GB, Compute Capability 6.0\n",
      "I0000 00:00:1747329759.422869      19 cuda_dnn.cc:529] Loaded cuDNN version 90300\n",
      "I0000 00:00:1747329770.924957      19 device_compiler.h:188] Compiled cluster using XLA!  This line is logged at most once for the lifetime of the process.\n"
     ]
    },
    {
     "data": {
      "text/markdown": [
       "<center><font color='Yellow' size='6'>Example 10853:</font></center>\n",
       "\n",
       "\n",
       "\n",
       "**<font color='green' size=4>Role:</font>**\n",
       "\n",
       "You are a highly advanced language model designed to summarize news articles concisely and accurately. Your task is to summarise news articles such that it captures the main points, key details, and overall context. The summary should be clear, coherent, and should highlight the most important aspects of the news article.\n",
       "\n",
       "\n",
       "\n",
       "\n",
       "**<font color='yellow' size=4>Instructions:</font>**\n",
       "1. Carefully read the news article given in the 'News' section.\n",
       "2. In the 'Summary' section, provide a summary of the news article highlighting the main points, key details, and overall context.\n",
       "\n",
       "**NOTE:** Only output the summary without any other additional texts.\n",
       "\n",
       "\n",
       "\n",
       "\n",
       "**<font color='red' size=4>News:</font>**\n",
       "\n",
       "Mark Selby, John Higgins and Ding Junhui were among a number of players who moved effortlessly into the last 16 of the China Open on Wednesday. Selby, who is gearing up for the defence of his world title later this month, continued to defy a neck injury to sweep aside fellow Englishman Elliot Slessor with a break of 126 in frame four of their second-round clash. Ding, the home favourite and reigning champion in Beijing, had two breaks of 86 in a convincing 5-1 victory against Mark Davis to set up a third-round meeting with Mark Williams, who was an easy 5-0 winner over Scotland's Michael Leslie. Mark Selby plays a shot during his match against fellow Engllishman Elliot Slessor at the China Open . Slessor plays a shot against Selby during their match at the China Open at Peking University in Beijing . Four-time world champion Higgins had a single break over 50 as he beat Scottish countryman Graeme Dott 5-2, setting up an intriguing last-16 clash with Judd Trump. Bristolian Trump, who lost out to Higgins in the 2011 World Championship final, enjoyed a century break in frame six to seal a 5-1 success against Peter Ebdon. Another former world champion, Shaun Murphy, was made to work hard for his place in the third round, coming from 3-2 down to see off Anthony McGill 5-4. Thailand's Dechawat Poomjaeng, who upset Neil Robertson in the opening round in Beijing, pulled out an impressive 5-0 win against England's Jack Lisowski to continue his challenge, but it was the end of the line for Marco Fu, who was edged out 5-4 by Welshman Jamie Jones. There were also second-round wins for Barry Hawkins, Stephen Maguire, Michael White, Robert Milkins, David Gilbert, Robin Hull, Kurt Maflin and Gary Wilson, with the last-16 taking place across two sessions on Thursday. Shaun Murphy worked hard for his place in the third round, coming from behind to beat Anthony McGill 5-4 .\n",
       "\n",
       "\n",
       "\n",
       "\n",
       "**<font color='cyan' size=4>Summary:</font>** \n",
       "\n",
       "\n",
       " \n",
       "World No 1 Mark Selby overcame a neck injury to beat fellow Englishman Elliot Slessor at the China Open .\n",
       "John Higgins and Ding Junhui have also made it into the tournament's last 16 .\n",
       "Shaun Murphy was made to work hard for his place in the third round, coming back from 3-2 down to beat Anthony McGill .\n",
       "The last 16 will take place across two sessions on Thursday .<center><font color='Yellow' size='6'>Gemma 3 Output:</font></center>\n",
       "\n",
       "\n",
       "\n",
       "**<font color='cyan' size=4>Summary:</font>** \n",
       "\n",
       "Mark Selby, John Higgins and Ding Junhui were among a number of players who moved effortlessly into the last 16 of the China Open on Wednesday. Selby, who is gearing up for the defence of his world title later this month, continued to defy a neck injury to sweep aside fellow Englishman Elliot Slessor with a break of 126 in frame four of their second-round clash. Ding, the home favourite and reigning champion in Beijing, had two breaks of 86 in a convincing 5-1 victory against fellow Scottish countryman Graeme Dott to set up a third-round meeting with Mark Williams, who was an easy 5-0 winner over Scotland's Michael Leslie. Mark Selby plays a shot during his match against fellow Engllishman Elliot Slessor at the China Open . Slessor plays a shot against Selby during their match at the China Open at Peking University in Beijing . Four-time world champion Higgins had a single break over 50 as he beat Scottish countryman Graeme Dott 5-2, setting up an intriguing last-16 clash with Judd Trump. Bristolian Trump, who lost out to Higgins in the 2011 World Championship final, enjoyed a century break in frame six to seal a 5-1 success against Peter E"
      ],
      "text/plain": [
       "<IPython.core.display.Markdown object>"
      ]
     },
     "metadata": {},
     "output_type": "display_data"
    }
   ],
   "source": [
    "display(Markdown(generate_inference(example_num=10853)))"
   ]
  },
  {
   "cell_type": "code",
   "execution_count": 19,
   "id": "1c204217",
   "metadata": {
    "execution": {
     "iopub.execute_input": "2025-05-15T17:22:54.328934Z",
     "iopub.status.busy": "2025-05-15T17:22:54.328690Z",
     "iopub.status.idle": "2025-05-15T17:23:29.800574Z",
     "shell.execute_reply": "2025-05-15T17:23:29.799920Z"
    },
    "papermill": {
     "duration": 35.491539,
     "end_time": "2025-05-15T17:23:29.810823",
     "exception": false,
     "start_time": "2025-05-15T17:22:54.319284",
     "status": "completed"
    },
    "tags": []
   },
   "outputs": [
    {
     "data": {
      "text/markdown": [
       "<center><font color='Yellow' size='6'>Example 4401:</font></center>\n",
       "\n",
       "\n",
       "\n",
       "**<font color='green' size=4>Role:</font>**\n",
       "\n",
       "You are a highly advanced language model designed to summarize news articles concisely and accurately. Your task is to summarise news articles such that it captures the main points, key details, and overall context. The summary should be clear, coherent, and should highlight the most important aspects of the news article.\n",
       "\n",
       "\n",
       "\n",
       "\n",
       "**<font color='yellow' size=4>Instructions:</font>**\n",
       "1. Carefully read the news article given in the 'News' section.\n",
       "2. In the 'Summary' section, provide a summary of the news article highlighting the main points, key details, and overall context.\n",
       "\n",
       "**NOTE:** Only output the summary without any other additional texts.\n",
       "\n",
       "\n",
       "\n",
       "\n",
       "**<font color='red' size=4>News:</font>**\n",
       "\n",
       "British No 2 Aljaz Bedene has booked a quarter-final place at the Grand Prix Hassan II event in Casablanca. The world No 99, who switched allegiance from Slovenia to Britain last month, knocked out fellow qualifier Arthur De Greef, of Belgium, 6-2, 6-3 in just 70 minutes. London-based Bedene, 25, will now face third seed Jiri Vesely, who was given a far tougher test as he progressed to the last-eight. British number two Aljaz Bedene, pictured in June 2013, defeated Arthur De Greef in just 70 minutes . Bedene represents Great Britain after switching allegiance from Slovenia in March . Czech Vesely claimed his first victory of the year on clay, but only after saving a set-point against former world top-10 player Mikhail Youzhny to progress 7-6 (9/7), 6-3. Top seed and defending champion Guillermo Garcia-Lopez, though, suffered a surprise defeat, bowing out 6-3, 6-3 against Morocco's world number 313 and wild card entry Lamine Ouahab. Ouahab next faces Spaniard Daniel Gimeno-Traver, who held a 6-1, 4-1 lead against seventh seed Mikhail Kukushkin, before he was forced to retire.\n",
       "\n",
       "\n",
       "\n",
       "\n",
       "**<font color='cyan' size=4>Summary:</font>** \n",
       "\n",
       "\n",
       " \n",
       "Slovenian-born Aljaz Bedene defeated Belgium's Arthur De Greef .\n",
       "Bedene will face Jiri Vesely after beating Arthur De Greef in 70 minutes .\n",
       "The 25-year-old switched allegiance from Slovenia to Britain in March .<center><font color='Yellow' size='6'>Gemma 3 Output:</font></center>\n",
       "\n",
       "\n",
       "\n",
       "**<font color='cyan' size=4>Summary:</font>** \n",
       "\n",
       "The news article provided is about a British No 2 Aljaz Bedene who has booked a quarter-final place at the Grand Prix Hassan II event in Casablanca. The world No 99, who switched allegiance from Slovenia to Britain last month, knocked out fellow qualifier Arthur De Greef, of Belgium, 6-2, 6-3 in just 70 minutes. London-based Bedene, 25, will now face third seed Jiri Vesely, who was given a far tougher test as he progressed to the last-eight. British number two Aljaz Bedene, pictured in June 201"
      ],
      "text/plain": [
       "<IPython.core.display.Markdown object>"
      ]
     },
     "metadata": {},
     "output_type": "display_data"
    }
   ],
   "source": [
    "display(Markdown(generate_inference()))"
   ]
  },
  {
   "cell_type": "markdown",
   "id": "93b2c5a9",
   "metadata": {
    "papermill": {
     "duration": 0.008622,
     "end_time": "2025-05-15T17:23:29.828450",
     "exception": false,
     "start_time": "2025-05-15T17:23:29.819828",
     "status": "completed"
    },
    "tags": []
   },
   "source": [
    "# Building TensorFlow Datatsets:"
   ]
  },
  {
   "cell_type": "code",
   "execution_count": 20,
   "id": "dc64dad8",
   "metadata": {
    "execution": {
     "iopub.execute_input": "2025-05-15T17:23:29.846801Z",
     "iopub.status.busy": "2025-05-15T17:23:29.846534Z",
     "iopub.status.idle": "2025-05-15T17:23:29.852768Z",
     "shell.execute_reply": "2025-05-15T17:23:29.852014Z"
    },
    "papermill": {
     "duration": 0.016779,
     "end_time": "2025-05-15T17:23:29.853944",
     "exception": false,
     "start_time": "2025-05-15T17:23:29.837165",
     "status": "completed"
    },
    "tags": []
   },
   "outputs": [],
   "source": [
    "def build_tf_dataset(dataset):\n",
    "    AUTO = tf.data.AUTOTUNE\n",
    "    options = tf.data.Options()\n",
    "    options.experimental_deterministic = False\n",
    "    \n",
    "    # Randomly sample 500 records for faster training\n",
    "    dataset = dataset.sample(n=500)\n",
    "\n",
    "    # Convert the dataframe into a dictionary with keys \"prompts\" and \"responses\"\n",
    "    dataset_dict_list = []\n",
    "    for i in range(len(dataset)):\n",
    "        dataset_dict = dict()\n",
    "        dataset_dict[\"prompts\"] = template.format(news=dataset.iloc[i, 0])\n",
    "        dataset_dict[\"responses\"] = dataset.iloc[i, 1]\n",
    "        dataset_dict_list.append(dataset_dict)\n",
    "\n",
    "    dataset = tf.data.Dataset.from_generator(\n",
    "        lambda: (item for item in dataset_dict_list),\n",
    "        output_signature={\n",
    "            \"prompts\": tf.TensorSpec(shape=(), dtype=tf.string),\n",
    "            \"responses\": tf.TensorSpec(shape=(), dtype=tf.string),\n",
    "        }\n",
    "    )\n",
    "\n",
    "    dataset = dataset.cache().shuffle(1024, seed=42)\n",
    "    dataset = dataset.with_options(options).batch(1).prefetch(AUTO)\n",
    "\n",
    "    return dataset"
   ]
  },
  {
   "cell_type": "code",
   "execution_count": 21,
   "id": "3fa7a423",
   "metadata": {
    "execution": {
     "iopub.execute_input": "2025-05-15T17:23:29.871988Z",
     "iopub.status.busy": "2025-05-15T17:23:29.871756Z",
     "iopub.status.idle": "2025-05-15T17:23:31.120808Z",
     "shell.execute_reply": "2025-05-15T17:23:31.119983Z"
    },
    "papermill": {
     "duration": 1.259616,
     "end_time": "2025-05-15T17:23:31.122270",
     "exception": false,
     "start_time": "2025-05-15T17:23:29.862654",
     "status": "completed"
    },
    "tags": []
   },
   "outputs": [],
   "source": [
    "train_dataset = build_tf_dataset(train_dataset)\n",
    "# valid_dataset = build_tf_dataset(valid_dataset)"
   ]
  },
  {
   "cell_type": "markdown",
   "id": "c84398e9",
   "metadata": {
    "papermill": {
     "duration": 0.008832,
     "end_time": "2025-05-15T17:23:31.140426",
     "exception": false,
     "start_time": "2025-05-15T17:23:31.131594",
     "status": "completed"
    },
    "tags": []
   },
   "source": [
    "# Fine-tuning with LoRA:"
   ]
  },
  {
   "cell_type": "code",
   "execution_count": 22,
   "id": "713e98f5",
   "metadata": {
    "execution": {
     "iopub.execute_input": "2025-05-15T17:23:31.158881Z",
     "iopub.status.busy": "2025-05-15T17:23:31.158606Z",
     "iopub.status.idle": "2025-05-15T17:23:31.374041Z",
     "shell.execute_reply": "2025-05-15T17:23:31.373177Z"
    },
    "papermill": {
     "duration": 0.225968,
     "end_time": "2025-05-15T17:23:31.375162",
     "exception": false,
     "start_time": "2025-05-15T17:23:31.149194",
     "status": "completed"
    },
    "tags": []
   },
   "outputs": [
    {
     "data": {
      "text/html": [
       "<pre style=\"white-space:pre;overflow-x:auto;line-height:normal;font-family:Menlo,'DejaVu Sans Mono',consolas,'Courier New',monospace\"><span style=\"font-weight: bold\">Preprocessor: \"gemma3_causal_lm_preprocessor\"</span>\n",
       "</pre>\n"
      ],
      "text/plain": [
       "\u001b[1mPreprocessor: \"gemma3_causal_lm_preprocessor\"\u001b[0m\n"
      ]
     },
     "metadata": {},
     "output_type": "display_data"
    },
    {
     "data": {
      "text/html": [
       "<pre style=\"white-space:pre;overflow-x:auto;line-height:normal;font-family:Menlo,'DejaVu Sans Mono',consolas,'Courier New',monospace\">┏━━━━━━━━━━━━━━━━━━━━━━━━━━━━━━━━━━━━━━━━━━━━━━━━━━━━━━━━━━━━━━━┳━━━━━━━━━━━━━━━━━━━━━━━━━━━━━━━━━━━━━━━━━━┓\n",
       "┃<span style=\"font-weight: bold\"> Layer (type)                                                  </span>┃<span style=\"font-weight: bold\">                                   Config </span>┃\n",
       "┡━━━━━━━━━━━━━━━━━━━━━━━━━━━━━━━━━━━━━━━━━━━━━━━━━━━━━━━━━━━━━━━╇━━━━━━━━━━━━━━━━━━━━━━━━━━━━━━━━━━━━━━━━━━┩\n",
       "│ gemma3_tokenizer (<span style=\"color: #0087ff; text-decoration-color: #0087ff\">Gemma3Tokenizer</span>)                            │                      Vocab size: <span style=\"color: #00af00; text-decoration-color: #00af00\">262,144</span> │\n",
       "└───────────────────────────────────────────────────────────────┴──────────────────────────────────────────┘\n",
       "</pre>\n"
      ],
      "text/plain": [
       "┏━━━━━━━━━━━━━━━━━━━━━━━━━━━━━━━━━━━━━━━━━━━━━━━━━━━━━━━━━━━━━━━┳━━━━━━━━━━━━━━━━━━━━━━━━━━━━━━━━━━━━━━━━━━┓\n",
       "┃\u001b[1m \u001b[0m\u001b[1mLayer (type)                                                 \u001b[0m\u001b[1m \u001b[0m┃\u001b[1m \u001b[0m\u001b[1m                                  Config\u001b[0m\u001b[1m \u001b[0m┃\n",
       "┡━━━━━━━━━━━━━━━━━━━━━━━━━━━━━━━━━━━━━━━━━━━━━━━━━━━━━━━━━━━━━━━╇━━━━━━━━━━━━━━━━━━━━━━━━━━━━━━━━━━━━━━━━━━┩\n",
       "│ gemma3_tokenizer (\u001b[38;5;33mGemma3Tokenizer\u001b[0m)                            │                      Vocab size: \u001b[38;5;34m262,144\u001b[0m │\n",
       "└───────────────────────────────────────────────────────────────┴──────────────────────────────────────────┘\n"
      ]
     },
     "metadata": {},
     "output_type": "display_data"
    },
    {
     "data": {
      "text/html": [
       "<pre style=\"white-space:pre;overflow-x:auto;line-height:normal;font-family:Menlo,'DejaVu Sans Mono',consolas,'Courier New',monospace\"><span style=\"font-weight: bold\">Model: \"gemma3_causal_lm\"</span>\n",
       "</pre>\n"
      ],
      "text/plain": [
       "\u001b[1mModel: \"gemma3_causal_lm\"\u001b[0m\n"
      ]
     },
     "metadata": {},
     "output_type": "display_data"
    },
    {
     "data": {
      "text/html": [
       "<pre style=\"white-space:pre;overflow-x:auto;line-height:normal;font-family:Menlo,'DejaVu Sans Mono',consolas,'Courier New',monospace\">┏━━━━━━━━━━━━━━━━━━━━━━━━━━━━━━━┳━━━━━━━━━━━━━━━━━━━━━━━━━━━┳━━━━━━━━━━━━━━━━━┳━━━━━━━━━━━━━━━━━━━━━━━━━━━━┓\n",
       "┃<span style=\"font-weight: bold\"> Layer (type)                  </span>┃<span style=\"font-weight: bold\"> Output Shape              </span>┃<span style=\"font-weight: bold\">         Param # </span>┃<span style=\"font-weight: bold\"> Connected to               </span>┃\n",
       "┡━━━━━━━━━━━━━━━━━━━━━━━━━━━━━━━╇━━━━━━━━━━━━━━━━━━━━━━━━━━━╇━━━━━━━━━━━━━━━━━╇━━━━━━━━━━━━━━━━━━━━━━━━━━━━┩\n",
       "│ padding_mask (<span style=\"color: #0087ff; text-decoration-color: #0087ff\">InputLayer</span>)     │ (<span style=\"color: #00d7ff; text-decoration-color: #00d7ff\">None</span>, <span style=\"color: #00d7ff; text-decoration-color: #00d7ff\">None</span>)              │               <span style=\"color: #00af00; text-decoration-color: #00af00\">0</span> │ -                          │\n",
       "├───────────────────────────────┼───────────────────────────┼─────────────────┼────────────────────────────┤\n",
       "│ token_ids (<span style=\"color: #0087ff; text-decoration-color: #0087ff\">InputLayer</span>)        │ (<span style=\"color: #00d7ff; text-decoration-color: #00d7ff\">None</span>, <span style=\"color: #00d7ff; text-decoration-color: #00d7ff\">None</span>)              │               <span style=\"color: #00af00; text-decoration-color: #00af00\">0</span> │ -                          │\n",
       "├───────────────────────────────┼───────────────────────────┼─────────────────┼────────────────────────────┤\n",
       "│ gemma3_backbone               │ (<span style=\"color: #00d7ff; text-decoration-color: #00d7ff\">None</span>, <span style=\"color: #00d7ff; text-decoration-color: #00d7ff\">None</span>, <span style=\"color: #00af00; text-decoration-color: #00af00\">1152</span>)        │   <span style=\"color: #00af00; text-decoration-color: #00af00\">1,000,538,240</span> │ padding_mask[<span style=\"color: #00af00; text-decoration-color: #00af00\">0</span>][<span style=\"color: #00af00; text-decoration-color: #00af00\">0</span>],        │\n",
       "│ (<span style=\"color: #0087ff; text-decoration-color: #0087ff\">Gemma3Backbone</span>)              │                           │                 │ token_ids[<span style=\"color: #00af00; text-decoration-color: #00af00\">0</span>][<span style=\"color: #00af00; text-decoration-color: #00af00\">0</span>]            │\n",
       "├───────────────────────────────┼───────────────────────────┼─────────────────┼────────────────────────────┤\n",
       "│ token_embedding               │ (<span style=\"color: #00d7ff; text-decoration-color: #00d7ff\">None</span>, <span style=\"color: #00d7ff; text-decoration-color: #00d7ff\">None</span>, <span style=\"color: #00af00; text-decoration-color: #00af00\">262144</span>)      │     <span style=\"color: #00af00; text-decoration-color: #00af00\">301,989,888</span> │ gemma3_backbone[<span style=\"color: #00af00; text-decoration-color: #00af00\">0</span>][<span style=\"color: #00af00; text-decoration-color: #00af00\">0</span>]      │\n",
       "│ (<span style=\"color: #0087ff; text-decoration-color: #0087ff\">ReversibleEmbedding</span>)         │                           │                 │                            │\n",
       "└───────────────────────────────┴───────────────────────────┴─────────────────┴────────────────────────────┘\n",
       "</pre>\n"
      ],
      "text/plain": [
       "┏━━━━━━━━━━━━━━━━━━━━━━━━━━━━━━━┳━━━━━━━━━━━━━━━━━━━━━━━━━━━┳━━━━━━━━━━━━━━━━━┳━━━━━━━━━━━━━━━━━━━━━━━━━━━━┓\n",
       "┃\u001b[1m \u001b[0m\u001b[1mLayer (type)                 \u001b[0m\u001b[1m \u001b[0m┃\u001b[1m \u001b[0m\u001b[1mOutput Shape             \u001b[0m\u001b[1m \u001b[0m┃\u001b[1m \u001b[0m\u001b[1m        Param #\u001b[0m\u001b[1m \u001b[0m┃\u001b[1m \u001b[0m\u001b[1mConnected to              \u001b[0m\u001b[1m \u001b[0m┃\n",
       "┡━━━━━━━━━━━━━━━━━━━━━━━━━━━━━━━╇━━━━━━━━━━━━━━━━━━━━━━━━━━━╇━━━━━━━━━━━━━━━━━╇━━━━━━━━━━━━━━━━━━━━━━━━━━━━┩\n",
       "│ padding_mask (\u001b[38;5;33mInputLayer\u001b[0m)     │ (\u001b[38;5;45mNone\u001b[0m, \u001b[38;5;45mNone\u001b[0m)              │               \u001b[38;5;34m0\u001b[0m │ -                          │\n",
       "├───────────────────────────────┼───────────────────────────┼─────────────────┼────────────────────────────┤\n",
       "│ token_ids (\u001b[38;5;33mInputLayer\u001b[0m)        │ (\u001b[38;5;45mNone\u001b[0m, \u001b[38;5;45mNone\u001b[0m)              │               \u001b[38;5;34m0\u001b[0m │ -                          │\n",
       "├───────────────────────────────┼───────────────────────────┼─────────────────┼────────────────────────────┤\n",
       "│ gemma3_backbone               │ (\u001b[38;5;45mNone\u001b[0m, \u001b[38;5;45mNone\u001b[0m, \u001b[38;5;34m1152\u001b[0m)        │   \u001b[38;5;34m1,000,538,240\u001b[0m │ padding_mask[\u001b[38;5;34m0\u001b[0m][\u001b[38;5;34m0\u001b[0m],        │\n",
       "│ (\u001b[38;5;33mGemma3Backbone\u001b[0m)              │                           │                 │ token_ids[\u001b[38;5;34m0\u001b[0m][\u001b[38;5;34m0\u001b[0m]            │\n",
       "├───────────────────────────────┼───────────────────────────┼─────────────────┼────────────────────────────┤\n",
       "│ token_embedding               │ (\u001b[38;5;45mNone\u001b[0m, \u001b[38;5;45mNone\u001b[0m, \u001b[38;5;34m262144\u001b[0m)      │     \u001b[38;5;34m301,989,888\u001b[0m │ gemma3_backbone[\u001b[38;5;34m0\u001b[0m][\u001b[38;5;34m0\u001b[0m]      │\n",
       "│ (\u001b[38;5;33mReversibleEmbedding\u001b[0m)         │                           │                 │                            │\n",
       "└───────────────────────────────┴───────────────────────────┴─────────────────┴────────────────────────────┘\n"
      ]
     },
     "metadata": {},
     "output_type": "display_data"
    },
    {
     "data": {
      "text/html": [
       "<pre style=\"white-space:pre;overflow-x:auto;line-height:normal;font-family:Menlo,'DejaVu Sans Mono',consolas,'Courier New',monospace\"><span style=\"font-weight: bold\"> Total params: </span><span style=\"color: #00af00; text-decoration-color: #00af00\">1,000,538,240</span> (3.73 GB)\n",
       "</pre>\n"
      ],
      "text/plain": [
       "\u001b[1m Total params: \u001b[0m\u001b[38;5;34m1,000,538,240\u001b[0m (3.73 GB)\n"
      ]
     },
     "metadata": {},
     "output_type": "display_data"
    },
    {
     "data": {
      "text/html": [
       "<pre style=\"white-space:pre;overflow-x:auto;line-height:normal;font-family:Menlo,'DejaVu Sans Mono',consolas,'Courier New',monospace\"><span style=\"font-weight: bold\"> Trainable params: </span><span style=\"color: #00af00; text-decoration-color: #00af00\">652,288</span> (2.49 MB)\n",
       "</pre>\n"
      ],
      "text/plain": [
       "\u001b[1m Trainable params: \u001b[0m\u001b[38;5;34m652,288\u001b[0m (2.49 MB)\n"
      ]
     },
     "metadata": {},
     "output_type": "display_data"
    },
    {
     "data": {
      "text/html": [
       "<pre style=\"white-space:pre;overflow-x:auto;line-height:normal;font-family:Menlo,'DejaVu Sans Mono',consolas,'Courier New',monospace\"><span style=\"font-weight: bold\"> Non-trainable params: </span><span style=\"color: #00af00; text-decoration-color: #00af00\">999,885,952</span> (3.72 GB)\n",
       "</pre>\n"
      ],
      "text/plain": [
       "\u001b[1m Non-trainable params: \u001b[0m\u001b[38;5;34m999,885,952\u001b[0m (3.72 GB)\n"
      ]
     },
     "metadata": {},
     "output_type": "display_data"
    }
   ],
   "source": [
    "gemma3_1b.backbone.enable_lora(rank=4)\n",
    "gemma3_1b.summary()"
   ]
  },
  {
   "cell_type": "code",
   "execution_count": 23,
   "id": "45ccb7ae",
   "metadata": {
    "execution": {
     "iopub.execute_input": "2025-05-15T17:23:31.395435Z",
     "iopub.status.busy": "2025-05-15T17:23:31.395224Z",
     "iopub.status.idle": "2025-05-15T17:23:31.402657Z",
     "shell.execute_reply": "2025-05-15T17:23:31.402181Z"
    },
    "papermill": {
     "duration": 0.018566,
     "end_time": "2025-05-15T17:23:31.403663",
     "exception": false,
     "start_time": "2025-05-15T17:23:31.385097",
     "status": "completed"
    },
    "tags": []
   },
   "outputs": [],
   "source": [
    "gemma3_1b.preprocessor.sequence_length = 1024\n",
    "\n",
    "optimizer = keras.optimizers.AdamW(\n",
    "    learning_rate=5e-5,\n",
    "    weight_decay=0.01,\n",
    ")\n",
    "\n",
    "# Exclude layernorm and bias terms from decay.\n",
    "optimizer.exclude_from_weight_decay(var_names=[\"bias\", \"scale\"])"
   ]
  },
  {
   "cell_type": "code",
   "execution_count": 24,
   "id": "16a35b3b",
   "metadata": {
    "execution": {
     "iopub.execute_input": "2025-05-15T17:23:31.423208Z",
     "iopub.status.busy": "2025-05-15T17:23:31.422996Z",
     "iopub.status.idle": "2025-05-15T17:23:31.430915Z",
     "shell.execute_reply": "2025-05-15T17:23:31.430227Z"
    },
    "papermill": {
     "duration": 0.019,
     "end_time": "2025-05-15T17:23:31.431964",
     "exception": false,
     "start_time": "2025-05-15T17:23:31.412964",
     "status": "completed"
    },
    "tags": []
   },
   "outputs": [],
   "source": [
    "gemma3_1b.compile(\n",
    "    loss=keras.losses.SparseCategoricalCrossentropy(from_logits=True),\n",
    "    optimizer=optimizer,\n",
    "    weighted_metrics=[keras.metrics.SparseCategoricalAccuracy()],\n",
    ")"
   ]
  },
  {
   "cell_type": "code",
   "execution_count": 25,
   "id": "24f7f6c4",
   "metadata": {
    "execution": {
     "iopub.execute_input": "2025-05-15T17:23:31.451666Z",
     "iopub.status.busy": "2025-05-15T17:23:31.451205Z",
     "iopub.status.idle": "2025-05-15T19:36:19.874267Z",
     "shell.execute_reply": "2025-05-15T19:36:19.873653Z"
    },
    "papermill": {
     "duration": 7968.434535,
     "end_time": "2025-05-15T19:36:19.875746",
     "exception": false,
     "start_time": "2025-05-15T17:23:31.441211",
     "status": "completed"
    },
    "tags": []
   },
   "outputs": [
    {
     "name": "stdout",
     "output_type": "stream",
     "text": [
      "Epoch 1/25\n"
     ]
    },
    {
     "name": "stderr",
     "output_type": "stream",
     "text": [
      "W0000 00:00:1747329893.088989      74 assert_op.cc:38] Ignoring Assert operator compile_loss/sparse_categorical_crossentropy/SparseSoftmaxCrossEntropyWithLogits/assert_equal_1/Assert/Assert\n"
     ]
    },
    {
     "name": "stdout",
     "output_type": "stream",
     "text": [
      "\u001b[1m500/500\u001b[0m \u001b[32m━━━━━━━━━━━━━━━━━━━━\u001b[0m\u001b[37m\u001b[0m \u001b[1m419s\u001b[0m 629ms/step - loss: 0.1302 - sparse_categorical_accuracy: 0.5832\n",
      "Epoch 2/25\n",
      "\u001b[1m500/500\u001b[0m \u001b[32m━━━━━━━━━━━━━━━━━━━━\u001b[0m\u001b[37m\u001b[0m \u001b[1m315s\u001b[0m 629ms/step - loss: 0.1175 - sparse_categorical_accuracy: 0.6191\n",
      "Epoch 3/25\n",
      "\u001b[1m500/500\u001b[0m \u001b[32m━━━━━━━━━━━━━━━━━━━━\u001b[0m\u001b[37m\u001b[0m \u001b[1m314s\u001b[0m 628ms/step - loss: 0.1020 - sparse_categorical_accuracy: 0.6407\n",
      "Epoch 4/25\n",
      "\u001b[1m500/500\u001b[0m \u001b[32m━━━━━━━━━━━━━━━━━━━━\u001b[0m\u001b[37m\u001b[0m \u001b[1m314s\u001b[0m 628ms/step - loss: 0.1028 - sparse_categorical_accuracy: 0.6406\n",
      "Epoch 5/25\n",
      "\u001b[1m500/500\u001b[0m \u001b[32m━━━━━━━━━━━━━━━━━━━━\u001b[0m\u001b[37m\u001b[0m \u001b[1m315s\u001b[0m 629ms/step - loss: 0.1097 - sparse_categorical_accuracy: 0.6359\n",
      "Epoch 6/25\n",
      "\u001b[1m500/500\u001b[0m \u001b[32m━━━━━━━━━━━━━━━━━━━━\u001b[0m\u001b[37m\u001b[0m \u001b[1m315s\u001b[0m 629ms/step - loss: 0.1030 - sparse_categorical_accuracy: 0.6467\n",
      "Epoch 7/25\n",
      "\u001b[1m500/500\u001b[0m \u001b[32m━━━━━━━━━━━━━━━━━━━━\u001b[0m\u001b[37m\u001b[0m \u001b[1m314s\u001b[0m 628ms/step - loss: 0.1024 - sparse_categorical_accuracy: 0.6536\n",
      "Epoch 8/25\n",
      "\u001b[1m500/500\u001b[0m \u001b[32m━━━━━━━━━━━━━━━━━━━━\u001b[0m\u001b[37m\u001b[0m \u001b[1m314s\u001b[0m 628ms/step - loss: 0.0966 - sparse_categorical_accuracy: 0.6572\n",
      "Epoch 9/25\n",
      "\u001b[1m500/500\u001b[0m \u001b[32m━━━━━━━━━━━━━━━━━━━━\u001b[0m\u001b[37m\u001b[0m \u001b[1m315s\u001b[0m 629ms/step - loss: 0.0957 - sparse_categorical_accuracy: 0.6558\n",
      "Epoch 10/25\n",
      "\u001b[1m500/500\u001b[0m \u001b[32m━━━━━━━━━━━━━━━━━━━━\u001b[0m\u001b[37m\u001b[0m \u001b[1m315s\u001b[0m 629ms/step - loss: 0.0905 - sparse_categorical_accuracy: 0.6599\n",
      "Epoch 11/25\n",
      "\u001b[1m500/500\u001b[0m \u001b[32m━━━━━━━━━━━━━━━━━━━━\u001b[0m\u001b[37m\u001b[0m \u001b[1m314s\u001b[0m 628ms/step - loss: 0.0903 - sparse_categorical_accuracy: 0.6757\n",
      "Epoch 12/25\n",
      "\u001b[1m500/500\u001b[0m \u001b[32m━━━━━━━━━━━━━━━━━━━━\u001b[0m\u001b[37m\u001b[0m \u001b[1m314s\u001b[0m 628ms/step - loss: 0.0847 - sparse_categorical_accuracy: 0.6846\n",
      "Epoch 13/25\n",
      "\u001b[1m500/500\u001b[0m \u001b[32m━━━━━━━━━━━━━━━━━━━━\u001b[0m\u001b[37m\u001b[0m \u001b[1m315s\u001b[0m 629ms/step - loss: 0.0807 - sparse_categorical_accuracy: 0.6921\n",
      "Epoch 14/25\n",
      "\u001b[1m500/500\u001b[0m \u001b[32m━━━━━━━━━━━━━━━━━━━━\u001b[0m\u001b[37m\u001b[0m \u001b[1m314s\u001b[0m 628ms/step - loss: 0.0840 - sparse_categorical_accuracy: 0.6982\n",
      "Epoch 15/25\n",
      "\u001b[1m500/500\u001b[0m \u001b[32m━━━━━━━━━━━━━━━━━━━━\u001b[0m\u001b[37m\u001b[0m \u001b[1m314s\u001b[0m 628ms/step - loss: 0.0822 - sparse_categorical_accuracy: 0.6993\n",
      "Epoch 16/25\n",
      "\u001b[1m500/500\u001b[0m \u001b[32m━━━━━━━━━━━━━━━━━━━━\u001b[0m\u001b[37m\u001b[0m \u001b[1m314s\u001b[0m 628ms/step - loss: 0.0758 - sparse_categorical_accuracy: 0.7154\n",
      "Epoch 17/25\n",
      "\u001b[1m500/500\u001b[0m \u001b[32m━━━━━━━━━━━━━━━━━━━━\u001b[0m\u001b[37m\u001b[0m \u001b[1m315s\u001b[0m 628ms/step - loss: 0.0763 - sparse_categorical_accuracy: 0.7206\n",
      "Epoch 18/25\n",
      "\u001b[1m500/500\u001b[0m \u001b[32m━━━━━━━━━━━━━━━━━━━━\u001b[0m\u001b[37m\u001b[0m \u001b[1m315s\u001b[0m 629ms/step - loss: 0.0748 - sparse_categorical_accuracy: 0.7290\n",
      "Epoch 19/25\n",
      "\u001b[1m500/500\u001b[0m \u001b[32m━━━━━━━━━━━━━━━━━━━━\u001b[0m\u001b[37m\u001b[0m \u001b[1m315s\u001b[0m 629ms/step - loss: 0.0707 - sparse_categorical_accuracy: 0.7360\n",
      "Epoch 20/25\n",
      "\u001b[1m500/500\u001b[0m \u001b[32m━━━━━━━━━━━━━━━━━━━━\u001b[0m\u001b[37m\u001b[0m \u001b[1m315s\u001b[0m 628ms/step - loss: 0.0679 - sparse_categorical_accuracy: 0.7455\n",
      "Epoch 21/25\n",
      "\u001b[1m500/500\u001b[0m \u001b[32m━━━━━━━━━━━━━━━━━━━━\u001b[0m\u001b[37m\u001b[0m \u001b[1m315s\u001b[0m 629ms/step - loss: 0.0635 - sparse_categorical_accuracy: 0.7620\n",
      "Epoch 22/25\n",
      "\u001b[1m500/500\u001b[0m \u001b[32m━━━━━━━━━━━━━━━━━━━━\u001b[0m\u001b[37m\u001b[0m \u001b[1m315s\u001b[0m 629ms/step - loss: 0.0645 - sparse_categorical_accuracy: 0.7634\n",
      "Epoch 23/25\n",
      "\u001b[1m500/500\u001b[0m \u001b[32m━━━━━━━━━━━━━━━━━━━━\u001b[0m\u001b[37m\u001b[0m \u001b[1m314s\u001b[0m 628ms/step - loss: 0.0601 - sparse_categorical_accuracy: 0.7794\n",
      "Epoch 24/25\n",
      "\u001b[1m500/500\u001b[0m \u001b[32m━━━━━━━━━━━━━━━━━━━━\u001b[0m\u001b[37m\u001b[0m \u001b[1m315s\u001b[0m 629ms/step - loss: 0.0566 - sparse_categorical_accuracy: 0.7887\n",
      "Epoch 25/25\n",
      "\u001b[1m500/500\u001b[0m \u001b[32m━━━━━━━━━━━━━━━━━━━━\u001b[0m\u001b[37m\u001b[0m \u001b[1m315s\u001b[0m 628ms/step - loss: 0.0536 - sparse_categorical_accuracy: 0.7979\n"
     ]
    }
   ],
   "source": [
    "history = gemma3_1b.fit(train_dataset, epochs=25)"
   ]
  },
  {
   "cell_type": "markdown",
   "id": "be4a5c88",
   "metadata": {
    "papermill": {
     "duration": 0.57075,
     "end_time": "2025-05-15T19:36:21.057041",
     "exception": false,
     "start_time": "2025-05-15T19:36:20.486291",
     "status": "completed"
    },
    "tags": []
   },
   "source": [
    "# Plotting Training Metric:"
   ]
  },
  {
   "cell_type": "code",
   "execution_count": 26,
   "id": "9b28cc4d",
   "metadata": {
    "execution": {
     "iopub.execute_input": "2025-05-15T19:36:22.221740Z",
     "iopub.status.busy": "2025-05-15T19:36:22.221423Z",
     "iopub.status.idle": "2025-05-15T19:36:22.226424Z",
     "shell.execute_reply": "2025-05-15T19:36:22.225766Z"
    },
    "papermill": {
     "duration": 0.542352,
     "end_time": "2025-05-15T19:36:22.227507",
     "exception": false,
     "start_time": "2025-05-15T19:36:21.685155",
     "status": "completed"
    },
    "tags": []
   },
   "outputs": [],
   "source": [
    "def plot_model_metric(metric):\n",
    "    plt.figure(dpi=120)\n",
    "    plt.plot(history.history[metric], label=metric)\n",
    "    # plt.plot(history.history[f'val_{metric}'], label=f'val_{metric}')\n",
    "    plt.xlabel('Epoch')\n",
    "    plt.ylabel(metric)\n",
    "    plt.legend()\n",
    "    plt.title(f'{metric} over Epochs')\n",
    "    plt.show();"
   ]
  },
  {
   "cell_type": "code",
   "execution_count": 27,
   "id": "be974ed2",
   "metadata": {
    "execution": {
     "iopub.execute_input": "2025-05-15T19:36:23.313340Z",
     "iopub.status.busy": "2025-05-15T19:36:23.313069Z",
     "iopub.status.idle": "2025-05-15T19:36:23.484172Z",
     "shell.execute_reply": "2025-05-15T19:36:23.483404Z"
    },
    "papermill": {
     "duration": 0.700034,
     "end_time": "2025-05-15T19:36:23.485295",
     "exception": false,
     "start_time": "2025-05-15T19:36:22.785261",
     "status": "completed"
    },
    "tags": []
   },
   "outputs": [
    {
     "data": {
      "image/png": "[encoded data removed]",
      "text/plain": [
       "<Figure size 768x576 with 1 Axes>"
      ]
     },
     "metadata": {},
     "output_type": "display_data"
    }
   ],
   "source": [
    "plot_model_metric('sparse_categorical_accuracy')"
   ]
  },
  {
   "cell_type": "markdown",
   "id": "aa1d8b8a",
   "metadata": {
    "papermill": {
     "duration": 0.527265,
     "end_time": "2025-05-15T19:36:24.614947",
     "exception": false,
     "start_time": "2025-05-15T19:36:24.087682",
     "status": "completed"
    },
    "tags": []
   },
   "source": [
    "# Inference After Fine-tuning:"
   ]
  },
  {
   "cell_type": "code",
   "execution_count": 28,
   "id": "70fed20f",
   "metadata": {
    "execution": {
     "iopub.execute_input": "2025-05-15T19:36:25.747671Z",
     "iopub.status.busy": "2025-05-15T19:36:25.747387Z",
     "iopub.status.idle": "2025-05-15T19:37:04.967066Z",
     "shell.execute_reply": "2025-05-15T19:37:04.966298Z"
    },
    "papermill": {
     "duration": 40.353946,
     "end_time": "2025-05-15T19:37:05.575361",
     "exception": false,
     "start_time": "2025-05-15T19:36:25.221415",
     "status": "completed"
    },
    "tags": []
   },
   "outputs": [
    {
     "data": {
      "text/markdown": [
       "<center><font color='Yellow' size='6'>Example 10853:</font></center>\n",
       "\n",
       "\n",
       "\n",
       "**<font color='green' size=4>Role:</font>**\n",
       "\n",
       "You are a highly advanced language model designed to summarize news articles concisely and accurately. Your task is to summarise news articles such that it captures the main points, key details, and overall context. The summary should be clear, coherent, and should highlight the most important aspects of the news article.\n",
       "\n",
       "\n",
       "\n",
       "\n",
       "**<font color='yellow' size=4>Instructions:</font>**\n",
       "1. Carefully read the news article given in the 'News' section.\n",
       "2. In the 'Summary' section, provide a summary of the news article highlighting the main points, key details, and overall context.\n",
       "\n",
       "**NOTE:** Only output the summary without any other additional texts.\n",
       "\n",
       "\n",
       "\n",
       "\n",
       "**<font color='red' size=4>News:</font>**\n",
       "\n",
       "Mark Selby, John Higgins and Ding Junhui were among a number of players who moved effortlessly into the last 16 of the China Open on Wednesday. Selby, who is gearing up for the defence of his world title later this month, continued to defy a neck injury to sweep aside fellow Englishman Elliot Slessor with a break of 126 in frame four of their second-round clash. Ding, the home favourite and reigning champion in Beijing, had two breaks of 86 in a convincing 5-1 victory against Mark Davis to set up a third-round meeting with Mark Williams, who was an easy 5-0 winner over Scotland's Michael Leslie. Mark Selby plays a shot during his match against fellow Engllishman Elliot Slessor at the China Open . Slessor plays a shot against Selby during their match at the China Open at Peking University in Beijing . Four-time world champion Higgins had a single break over 50 as he beat Scottish countryman Graeme Dott 5-2, setting up an intriguing last-16 clash with Judd Trump. Bristolian Trump, who lost out to Higgins in the 2011 World Championship final, enjoyed a century break in frame six to seal a 5-1 success against Peter Ebdon. Another former world champion, Shaun Murphy, was made to work hard for his place in the third round, coming from 3-2 down to see off Anthony McGill 5-4. Thailand's Dechawat Poomjaeng, who upset Neil Robertson in the opening round in Beijing, pulled out an impressive 5-0 win against England's Jack Lisowski to continue his challenge, but it was the end of the line for Marco Fu, who was edged out 5-4 by Welshman Jamie Jones. There were also second-round wins for Barry Hawkins, Stephen Maguire, Michael White, Robert Milkins, David Gilbert, Robin Hull, Kurt Maflin and Gary Wilson, with the last-16 taking place across two sessions on Thursday. Shaun Murphy worked hard for his place in the third round, coming from behind to beat Anthony McGill 5-4 .\n",
       "\n",
       "\n",
       "\n",
       "\n",
       "**<font color='cyan' size=4>Summary:</font>** \n",
       "\n",
       "\n",
       " \n",
       "World No 1 Mark Selby overcame a neck injury to beat fellow Englishman Elliot Slessor at the China Open .\n",
       "John Higgins and Ding Junhui have also made it into the tournament's last 16 .\n",
       "Shaun Murphy was made to work hard for his place in the third round, coming back from 3-2 down to beat Anthony McGill .\n",
       "The last 16 will take place across two sessions on Thursday .<center><font color='Yellow' size='6'>Gemma 3 Output:</font></center>\n",
       "\n",
       "\n",
       "\n",
       "**<font color='cyan' size=4>Summary:</font>** \n",
       "\n",
       "Mark Selby wins forthime world title defence .\n",
       "Ding Junhui also into last 16 after two breaks of 86 .\n",
       "Higgins has one break of 126 in impressive win over Slessor .\n",
       "Another former world champion, Higgins, has third round clash .\n",
       "Trump, who lost out to Higgins in 2011 World Championship final, wins 5-1 .\n",
       "Thailand's Dechawat Poomjaeng also into last 16 ."
      ],
      "text/plain": [
       "<IPython.core.display.Markdown object>"
      ]
     },
     "metadata": {},
     "output_type": "display_data"
    }
   ],
   "source": [
    "display(Markdown(generate_inference(example_num=10853)))"
   ]
  },
  {
   "cell_type": "code",
   "execution_count": 29,
   "id": "760f46a3",
   "metadata": {
    "execution": {
     "iopub.execute_input": "2025-05-15T19:37:06.624863Z",
     "iopub.status.busy": "2025-05-15T19:37:06.623958Z",
     "iopub.status.idle": "2025-05-15T19:37:47.352953Z",
     "shell.execute_reply": "2025-05-15T19:37:47.352175Z"
    },
    "papermill": {
     "duration": 41.839709,
     "end_time": "2025-05-15T19:37:47.939037",
     "exception": false,
     "start_time": "2025-05-15T19:37:06.099328",
     "status": "completed"
    },
    "tags": []
   },
   "outputs": [
    {
     "data": {
      "text/markdown": [
       "<center><font color='Yellow' size='6'>Example 6604:</font></center>\n",
       "\n",
       "\n",
       "\n",
       "**<font color='green' size=4>Role:</font>**\n",
       "\n",
       "You are a highly advanced language model designed to summarize news articles concisely and accurately. Your task is to summarise news articles such that it captures the main points, key details, and overall context. The summary should be clear, coherent, and should highlight the most important aspects of the news article.\n",
       "\n",
       "\n",
       "\n",
       "\n",
       "**<font color='yellow' size=4>Instructions:</font>**\n",
       "1. Carefully read the news article given in the 'News' section.\n",
       "2. In the 'Summary' section, provide a summary of the news article highlighting the main points, key details, and overall context.\n",
       "\n",
       "**NOTE:** Only output the summary without any other additional texts.\n",
       "\n",
       "\n",
       "\n",
       "\n",
       "**<font color='red' size=4>News:</font>**\n",
       "\n",
       "Ahead of this weekend's Premier League action, Sportsmail will be providing you with all you need to know about every fixture, with team news, provisional squads, betting odds and Opta stats. Here is all the information you need for Leicester's home clash with West Ham... Leicester City vs West Ham United (King Power Stadium) Team news . Leicester City . Matt Upson is out of Leicester's clash with West Ham as the rock-bottom Foxes continue their fight for survival. The defender limped off in their 4-3 defeat by Tottenham before the international break with an achilles problem and will not be risked. Jeff Schlupp (right) trains with Leicester team-mate Wes Morgan on Thursday but could be rested by the Foxes . Dean Hammond (calf) is out and Jeff Schlupp will be assessed after he played in Ghana's 1-1 draw with Mali on Tuesday with boss Nigel Pearson admitting the winger is tired, while Liam Moore has returned from a loan at Brentford. Provisional squad: Schmeichel, Schwarzer, Hamer, Simpson, Moore, Wasilewski, Morgan, Huth, De Laet, Konchesky, King, Knockaert, Albrighton, Schlupp, Cambiasso, James, Mahrez, Nugent, Kramaric, Vardy, Ulloa. West Ham United . West Ham will welcome Winston Reid back from injury for Saturday's Premier League trip to bottom side Leicester. The New Zealand defender has been struggling with a hamstring problem but worked on his fitness over the international break and is now in contention to face the Foxes. West Ham United's Winston Reid tackles Tottenham Hotspur's Mousa Dembele during a 2-2 Premier League clash at White Hart Lane in February . Hammers' boss Sam Allardyce believes the game will come too soon for Enner Valencia (toe) but the Ecuadorian is back in training whilst Andy Carroll (knee), James Tomkins (shoulder) and Doneil Henry (hamstring) all miss out. Provisional squad: Adrian, Jaaskelainen, Cresswell, Jenkinson, Reid, Collins, O'Brien, Noble, Poyet, Song, Amalfitano, Kouyate, Nolan, Downing, Jarvis, Nene, Sakho, Valencia, Cole. Kick-off: Saturday, 3pm . Odds (subject to change): . Leicester 7/5 . Draw 11/5 . West Ham 2/1 . Referee: Mark Clattenburg . Managers: Nigel Pearson (Leicester), Sam Allardyce (West Ham) Head-to-head league record: Leicester wins 39, draws 29, West Ham wins 51 . Key match stats (supplied by Opta) Leicester have won just one of their last 10 Premier League home matches (W1 D3 L6). West Ham United are unbeaten in their last seven league games against Leicester City (W4 D3 L0). The Hammers scored with their only two shots on target in their 2-0 win in the reverse fixture against the Foxes back in December. Sam Allardyce’s team have won none of their last seven Barclays Premier League away matches (W0 D4 L3). West Ham have kept just one clean sheet in their last 20 Premier League games on the road. Andy Carroll will not feature for West Ham United at Leicester City but he did score in the Hammers' 2-0 victory over the Foxes back in December . Nigel Pearson’s side have scored just three goals in their last nine Premier League games at the King Power Stadium and have gone five hours and 15 minutes since they lasted netted in front of their own fans. West Ham will be looking to win back to back Premier League games for the first time since December 7th. No ground has seen fewer Premier League goals this season than the King Power Stadium (30, level with Villa Park). After scoring five goals in his first five Premier League appearances for Leicester City, Leonardo Ulloa has scored only two in his 23 apps since. Diafra Sakho has scored a league-high five headed goals this season, while only Graziano Pellè (25) has attempted more headed shots than the Hammer (23).\n",
       "\n",
       "\n",
       "\n",
       "\n",
       "**<font color='cyan' size=4>Summary:</font>** \n",
       "\n",
       "\n",
       " \n",
       "Leicester defender Matthew Upson will miss out against former club .\n",
       "Dean Hammond and Jeff Schlupp to be given fitness tests by Foxes .\n",
       "Winston Reid returns from hamstring injury for West Ham United .\n",
       "Hammers without Enner Valencia who is back in training .\n",
       "Andy Carroll, James Tomkins and Doneil Henry also missing for West Ham .<center><font color='Yellow' size='6'>Gemma 3 Output:</font></center>\n",
       "\n",
       "\n",
       "\n",
       "**<font color='cyan' size=4>Summary:</font>** \n",
       "\n",
       "West Ham United host bottom side Leicester City at the London Stadium on Saturday .\n",
       "Sam Allardyce's side have won just one of their last nine Premier League games on the road .\n",
       "Leicester have scored three goals in their last five Premier League games ."
      ],
      "text/plain": [
       "<IPython.core.display.Markdown object>"
      ]
     },
     "metadata": {},
     "output_type": "display_data"
    }
   ],
   "source": [
    "display(Markdown(generate_inference()))"
   ]
  }
 ],
 "metadata": {
  "kaggle": {
   "accelerator": "gpu",
   "dataSources": [
    {
     "datasetId": 1654566,
     "sourceId": 2734496,
     "sourceType": "datasetVersion"
    },
    {
     "modelId": 279036,
     "modelInstanceId": 257756,
     "sourceId": 316991,
     "sourceType": "modelInstanceVersion"
    }
   ],
   "isGpuEnabled": true,
   "isInternetEnabled": true,
   "language": "python",
   "sourceType": "notebook"
  },
  "kernelspec": {
   "display_name": "Python 3",
   "language": "python",
   "name": "python3"
  },
  "language_info": {
   "codemirror_mode": {
    "name": "ipython",
    "version": 3
   },
   "file_extension": ".py",
   "mimetype": "text/x-python",
   "name": "python",
   "nbconvert_exporter": "python",
   "pygments_lexer": "ipython3",
   "version": "3.11.11"
  },
  "papermill": {
   "default_parameters": {},
   "duration": 8236.121547,
   "end_time": "2025-05-15T19:37:52.715427",
   "environment_variables": {},
   "exception": null,
   "input_path": "__notebook__.ipynb",
   "output_path": "__notebook__.ipynb",
   "parameters": {},
   "start_time": "2025-05-15T17:20:36.593880",
   "version": "2.6.0"
  }
 },
 "nbformat": 4,
 "nbformat_minor": 5
}
